{
 "cells": [
  {
   "cell_type": "markdown",
   "metadata": {},
   "source": [
    "Over the past year or so, I've been using [JAX](https://jax.readthedocs.io) extensively for my research, and I've also been encouraging other astronomers to give it a try.\n",
    "In particular, I've been using JAX as the computation engine for probabilistic inference tasks.\n",
    "There's more to it, but one way that I like to think about JAX is as NumPy with just-in-time compilation and [automatic differentiation](https://en.wikipedia.org/wiki/Automatic_differentiation).\n",
    "The just-in-time compilation features of JAX can be used to speed up you NumPy computations by removing some Python overhead and by executing it on your GPU.\n",
    "Then, automatic differentiation can be used to efficiently compute the derivatives of your code with respect to its input parameters.\n",
    "These derivatives can substantially improve the performance of numerical inference methods (like maximum likelihood or Markov chain Monte Carlo) and for other tasks such as Fisher information analysis.\n",
    "\n",
    "This post isn't meant to be a comprehensive introduction to JAX (take a look at [the excellent JAX docs](https://jax.readthedocs.io/en/latest/notebooks/quickstart.html) for more of that) or to automatic differentiation ([I've written some words](https://docs.exoplanet.codes/en/latest/tutorials/autodiff/) about that, and [so have many others](https://www.google.com/search?q=automatic+differentiation)), but rather an introduction to the JAX ecosystem for probabilistic inference, with some examples that will be familiar to astronomers.\n",
    "From my perspective, one benefit of the JAX ecosystem compared to other similar tools available in Python (e.g. [PyMC](https://www.pymc.io), [Stan](https://mc-stan.org), etc.) is that it's generally more modular.\n",
    "In practice, this means that you can (relatively) easily combine different JAX libraries to develop your preferred workflow.\n",
    "For example, you can build a probabilistic model using [NumPyro](https://num.pyro.ai) that uses [tinygp](https://tinygp.readthedocs.io) for Gaussian Processes, and then run a Markov chain Monte Carlo (MCMC) analysis using [BlackJAX](https://github.com/blackjax-devs/blackjax).\n",
    "\n",
    "In this post, however, I'll focus primarily on providing an introduction to [NumPyro](https://num.pyro.ai), which is a probabilistic programming library that provides an interface for defining probabilistic models and running inference algorithms.\n",
    "At this point, NumPyro is probably the most mature JAX-based probabilistic programming library, and [its documentation page](https://num.pyro.ai) has a lot of examples, but I've found that these docs are not that user-friendly for my collaborators, so I wanted to provide a different perspective.\n",
    "In the following sections, I'll present two examples:\n",
    "\n",
    "1. The first example is a fairly simple linear regression problem that introduces some basic NumPyro concepts. In the second half of this example, we will re-implement the model from [my \"Mixture Models\" post](https://dfm.io/posts/mixture-models/) to account for outliers in the simulated dataset, while also introducing some more advanced elements.\n",
    "\n",
    "2. The second example is an astronomy-specific problem that is designed to really highlight the power of these methods. In this example, we will measure the distance to the [M67 open cluster](https://en.wikipedia.org/wiki/Messier_67) using a huge hierarchical model for parallaxes measured by [the Gaia Mission](https://sci.esa.int/web/gaia) for stars in the direction of M67. This example includes running an MCMC sampler with thousands of parameters, which would be intractable with the tools commonly used by astronomers, but only takes a few minutes to run using NumPyro.\n",
    "\n",
    "## Example 1: Linear regression with outliers\n",
    "\n",
    "In this example, we'll use NumPyro to fit a linear regression model to the data simulated in [my \"Mixture models\" post](https://dfm.io/posts/mixture-models/).\n",
    "This simulated dataset has some outliers so, as we'll see below, simple linear regression isn't going to work very well, so we'll extend the model to include a mixture as presented in the aforementioned blog post.\n",
    "But, to start, let's simulate the dataset:"
   ]
  },
  {
   "cell_type": "code",
   "execution_count": null,
   "metadata": {},
   "outputs": [],
   "source": [
    "import numpy as np\n",
    "import matplotlib.pyplot as plt\n",
    "\n",
    "# We'll choose the parameters of our synthetic data.\n",
    "# The outlier probability will be 80%:\n",
    "true_frac = 0.8\n",
    "\n",
    "# The linear model has unit slope and zero intercept:\n",
    "true_params = [1.0, 0.0]\n",
    "\n",
    "# The outliers are drawn from a Gaussian with zero mean and unit variance:\n",
    "true_outliers = [0.0, 1.0]\n",
    "\n",
    "# For reproducibility, let's set the random number seed and generate the data:\n",
    "np.random.seed(12)\n",
    "x = np.sort(np.random.uniform(-2, 2, 15))\n",
    "yerr = 0.2 * np.ones_like(x)\n",
    "y = true_params[0] * x + true_params[1] + yerr * np.random.randn(len(x))\n",
    "\n",
    "# Those points are all drawn from the correct model so let's replace some of\n",
    "# them with outliers.\n",
    "m_bkg = np.random.rand(len(x)) > true_frac\n",
    "y[m_bkg] = true_outliers[0]\n",
    "y[m_bkg] += np.sqrt(true_outliers[1] + yerr[m_bkg] ** 2) * np.random.randn(sum(m_bkg))\n",
    "\n",
    "# Then save the *true* line.\n",
    "x0 = np.linspace(-2.1, 2.1, 200)\n",
    "y0 = np.dot(np.vander(x0, 2), true_params)\n",
    "\n",
    "\n",
    "def plot_data():\n",
    "    plt.errorbar(x, y, yerr=yerr, fmt=\",k\", ms=0, capsize=0, lw=1, zorder=999)\n",
    "    plt.scatter(x[m_bkg], y[m_bkg], marker=\"s\", s=22, c=\"w\", edgecolor=\"k\", zorder=1000)\n",
    "    plt.scatter(\n",
    "        x[~m_bkg], y[~m_bkg], marker=\"o\", s=22, c=\"k\", zorder=1000, label=\"data\"\n",
    "    )\n",
    "    plt.plot(x0, y0, color=\"k\", lw=1.5)\n",
    "    plt.xlabel(\"$x$\")\n",
    "    plt.ylabel(\"$y$\")\n",
    "    plt.ylim(-2.5, 2.5)\n",
    "    plt.xlim(-2.1, 2.1)\n",
    "\n",
    "\n",
    "plot_data()"
   ]
  },
  {
   "cell_type": "markdown",
   "metadata": {},
   "source": [
    "The line in this figure shows the true linear relation, and the unfilled points are the outliers.\n",
    "To get started, let's implement a basic linear regression model using NumPyro.\n",
    "We'll parameterize our model using the angle of the line above horizontal $\\theta = \\arctan m$ (where $m$ is the slope of the line) and the \"perpendicular\" intercept $b_\\perp = b\\,\\cos\\theta$ (where $b$ has the usual definition of linear intercept).\n",
    "This choice of parameterization is discussed on [Jake VanderPlas' blog](http://jakevdp.github.io/blog/2014/06/14/frequentism-and-bayesianism-4-bayesian-in-python/), and it's not terribly important for this dataset, but it will let us demonstrate how to re-parameterize models.\n",
    "\n",
    "In NumPyro, a probabilistic model is defined as a Python function that takes the dataset as input.\n",
    "In the body of the function, we start by defining the priors on our parameters using the `numpyro.sample` function and probability distributions defined in the `numpyro.distributions` module.\n",
    "Then we use these parameters to evaluate our model, making sure that we always use `jax.numpy` functions instead of `numpy` functions.\n",
    "Finally, we define the sampling distribution for the data, again using the `numpyro.sample` function and a distribution.\n",
    "\n",
    "**Note:** This point is important! You _must_ evaluate model using functions that JAX understands.\n",
    "In many cases, this isn't a problem since JAX implements most NumPy functions, but this gets more complicated if you need custom (e.g. physically-motivated) functions, but that's a conversation for a different day.\n",
    "\n",
    "### A simple model with no treatment of outliers\n",
    "\n",
    "Here's our implementation of a linear model parameterized by $\\theta$ and $b_\\perp$ without any treatment of outliers:"
   ]
  },
  {
   "cell_type": "code",
   "execution_count": null,
   "metadata": {},
   "outputs": [],
   "source": [
    "import jax\n",
    "import jax.numpy as jnp\n",
    "\n",
    "import numpyro\n",
    "from numpyro import distributions as dist, infer\n",
    "\n",
    "numpyro.set_host_device_count(2)\n",
    "\n",
    "\n",
    "def linear_model(x, yerr, y=None):\n",
    "    # These are the parameters that we're fitting and we're required to define explicit\n",
    "    # priors using distributions from the numpyro.distributions module.\n",
    "    theta = numpyro.sample(\"theta\", dist.Uniform(-0.5 * jnp.pi, 0.5 * jnp.pi))\n",
    "    b_perp = numpyro.sample(\"b_perp\", dist.Normal(0, 1))\n",
    "\n",
    "    # Transformed parameters (and other things!) can be tracked during sampling using\n",
    "    # \"deterministics\" as follows:\n",
    "    m = numpyro.deterministic(\"m\", jnp.tan(theta))\n",
    "    b = numpyro.deterministic(\"b\", b_perp / jnp.cos(theta))\n",
    "\n",
    "    # Then we specify the sampling distribution for the data, or the likelihood function.\n",
    "    # Here we're using a numpyro.plate to indicate that the data are independent. This\n",
    "    # isn't actually necessary here and we could have equivalently omitted the plate since\n",
    "    # the Normal distribution can already handle vector-valued inputs. But, it's good to\n",
    "    # get into the habit of using plates because some inference algorithms or distributions\n",
    "    # can take advantage of knowing this structure.\n",
    "    with numpyro.plate(\"data\", len(x)):\n",
    "        numpyro.sample(\"y\", dist.Normal(m * x + b, yerr), obs=y)"
   ]
  },
  {
   "cell_type": "markdown",
   "metadata": {},
   "source": [
    "Using this model function, we can now use MCMC to sample from the posterior."
   ]
  },
  {
   "cell_type": "code",
   "execution_count": null,
   "metadata": {},
   "outputs": [],
   "source": [
    "# Using the model above, we can now sample from the posterior distribution using the No\n",
    "# U-Turn Sampler (NUTS).\n",
    "sampler = infer.MCMC(\n",
    "    infer.NUTS(linear_model),\n",
    "    num_warmup=2000,\n",
    "    num_samples=2000,\n",
    "    num_chains=2,\n",
    "    progress_bar=True,\n",
    ")\n",
    "%time sampler.run(jax.random.PRNGKey(0), x, yerr, y=y)"
   ]
  },
  {
   "cell_type": "markdown",
   "metadata": {},
   "source": [
    "The published version of this post is executed on GitHub Actions with a pretty teeny CPU, but the full runtime for this model is less than 2 seconds on my laptop.\n",
    "In this case, the runtime is actually probably dominated by JIT compilation and Python overheads, but it's also a pretty simple model with only 2 parameters, so we'd expect it to be fast.\n",
    "\n",
    "It's always a good idea to check the convergence of your MCMC sampler, and we'll use [ArviZ](https://python.arviz.org) to do that here, looking at the Gelman–Rubin (`r_hat`) statistic, and the effective sample sizes (e.g. `ess_bulk`):"
   ]
  },
  {
   "cell_type": "code",
   "execution_count": null,
   "metadata": {},
   "outputs": [],
   "source": [
    "import arviz as az\n",
    "\n",
    "inf_data = az.from_numpyro(sampler)\n",
    "az.summary(inf_data)"
   ]
  },
  {
   "cell_type": "markdown",
   "metadata": {},
   "source": [
    "Cool - the auto-correlation time of our chains is just over 1, which means that nearly every sample is effectively independent.\n",
    "\n",
    "Now we can look at [the corner plot](https://corner.readthedocs.io) of the results, and compare to the true values:"
   ]
  },
  {
   "cell_type": "code",
   "execution_count": null,
   "metadata": {},
   "outputs": [],
   "source": [
    "import corner\n",
    "\n",
    "corner.corner(inf_data, var_names=[\"m\", \"b\"], truths=true_params);"
   ]
  },
  {
   "cell_type": "markdown",
   "metadata": {},
   "source": [
    "As in [the mixture models post](https://dfm.io/posts/mixture-models/) that this example is based on, the results are _very wrong_ if we don't take outliers into account.\n",
    "We'll fix this using a mixture model below, but first let's take a look at one other feature of NumPyro.\n",
    "\n",
    "You may have noticed in our model definition above, we passed the observed data `y` as a keyword argument instead of as a positional argument.\n",
    "This is because it lets us reuse the same model for predictive tasks.\n",
    "For example, we can use the `numpyro.infer.Predictive` interface to do posterior (or prior) predictive checks.\n",
    "This gives a way of simulating data that we would expect to see, given our posterior (or prior) constraints and sampling distribution, which we can then compare to our observed data.\n",
    "\n",
    "In this case, let's generate some simulated data from our posterior predictive distribution (note that we don't pass `y` to this function) and over-plot these simulated datasets on the observed data:"
   ]
  },
  {
   "cell_type": "code",
   "execution_count": null,
   "metadata": {},
   "outputs": [],
   "source": [
    "post_pred_samples = infer.Predictive(linear_model, sampler.get_samples())(\n",
    "    jax.random.PRNGKey(1), x, yerr\n",
    ")\n",
    "post_pred_y = post_pred_samples[\"y\"]\n",
    "\n",
    "plot_data()\n",
    "label = \"posterior predictive samples\"\n",
    "for n in np.random.default_rng(0).integers(len(post_pred_y), size=100):\n",
    "    plt.plot(x, post_pred_y[n], \".\", color=\"C0\", alpha=0.1, label=label)\n",
    "    label = None\n",
    "plt.legend();"
   ]
  },
  {
   "cell_type": "markdown",
   "metadata": {},
   "source": [
    "Unsurprisingly, these simulated datasets are (qualitatively) not a good match to the observed data because of the outliers.\n",
    "Let's fix that now!\n",
    "\n",
    "### Taking outliers into account using a mixture model\n",
    "\n",
    "Now we generalize our model from above to include a mixture distribution to account for the outliers.\n",
    "We'll use the same mixture model as in the [mixture models post](https://dfm.io/posts/mixture-models/), and you should take a look at that post for a more detailed explanation of the model.\n",
    "But, in summary, out \"foreground\" model is the same as the one above, and the \"background\" model is a Gaussian with a floating mean and standard deviation.\n",
    "Besides $\\theta$ and $b_\\perp$, we'll also fit for the mean and standard deviation of the background model, and the mixture weight (called $Q$ in the previous blog post)."
   ]
  },
  {
   "cell_type": "code",
   "execution_count": null,
   "metadata": {},
   "outputs": [],
   "source": [
    "def linear_mixture_model(x, yerr, y=None):\n",
    "    # Our \"foreground\" model is identical to the one we used previously: a line\n",
    "    # parameterized by \"theta\" and \"b_perp\". Note that we don't wrap the actual\n",
    "    # sampling distribution in a `numpyro.sample` here because we're going to\n",
    "    # use it in the mixture distribution below.\n",
    "    theta = numpyro.sample(\"theta\", dist.Uniform(-0.5 * jnp.pi, 0.5 * jnp.pi))\n",
    "    b_perp = numpyro.sample(\"b_perp\", dist.Normal(0.0, 1.0))\n",
    "    m = numpyro.deterministic(\"m\", jnp.tan(theta))\n",
    "    b = numpyro.deterministic(\"b\", b_perp / jnp.cos(theta))\n",
    "    fg_dist = dist.Normal(m * x + b, yerr)\n",
    "\n",
    "    # Our outlier model is a Gaussian where we're fitting for the zero and\n",
    "    # standard deviation.\n",
    "    bg_mean = numpyro.sample(\"bg_mean\", dist.Normal(0.0, 1.0))\n",
    "    bg_sigma = numpyro.sample(\"bg_sigma\", dist.HalfNormal(3.0))\n",
    "    bg_dist = dist.Normal(bg_mean, jnp.sqrt(bg_sigma**2 + yerr**2))\n",
    "\n",
    "    # We use a `Catagorical` distribution to define the outlier probability. We\n",
    "    # fit for the parameter `Q` which specifies the probability that any\n",
    "    # individual point is a member of the foreground model. Therefore, the\n",
    "    # \"prior\" outlier probability is `1 - Q`.\n",
    "    Q = numpyro.sample(\"Q\", dist.Uniform(0.0, 1.0))\n",
    "    mix = dist.Categorical(probs=jnp.array([Q, 1.0 - Q]))\n",
    "\n",
    "    # As with the previous model, the use of a `plate` here is optional, but\n",
    "    # let's do it anyways.\n",
    "    with numpyro.plate(\"data\", len(x)):\n",
    "        # The `numpyro.distributions` module doesn't yet implement a mixture\n",
    "        # distribution that is flexible enough for our use cases, so we'll use\n",
    "        # one that I implemented in the `numpyro-ext` package. (This is sort of\n",
    "        # a lie: the `MixtureSameFamily` distribution in NumPyro _would_ work\n",
    "        # here, but not in our next example, so bear with me!)\n",
    "        numpyro.sample(\"obs\", dist.MixtureGeneral(mix, [fg_dist, bg_dist]), obs=y)\n",
    "\n",
    "\n",
    "# Our inference procedure is identical to the one above.\n",
    "sampler = infer.MCMC(\n",
    "    infer.NUTS(linear_mixture_model),\n",
    "    num_warmup=2000,\n",
    "    num_samples=2000,\n",
    "    num_chains=2,\n",
    "    progress_bar=True,\n",
    ")\n",
    "%time sampler.run(jax.random.PRNGKey(3), x, yerr, y=y)"
   ]
  },
  {
   "cell_type": "markdown",
   "metadata": {},
   "source": [
    "This model is a bit more complicated, but it still runs pretty quickly, with the runtime again dominated by just-in-time compilation (try increasing the number of samples if you don't believe me!).\n",
    "As before, we can check convergence and make a corner plot:"
   ]
  },
  {
   "cell_type": "code",
   "execution_count": null,
   "metadata": {},
   "outputs": [],
   "source": [
    "inf_data = az.from_numpyro(sampler)\n",
    "corner.corner(\n",
    "    inf_data,\n",
    "    var_names=[\"m\", \"b\", \"Q\"],\n",
    "    truths={\n",
    "        \"m\": true_params[0],\n",
    "        \"b\": true_params[1],\n",
    "        \"Q\": true_frac,\n",
    "    },\n",
    ")\n",
    "az.summary(inf_data)"
   ]
  },
  {
   "cell_type": "markdown",
   "metadata": {},
   "source": [
    "This time we recover the true values of the slope, intercept, and outlier probability!\n",
    "\n",
    "_Added 2022-08-03:_ We can also use this model to identify which points are outliers.\n",
    "The [mixture models post](https://dfm.io/posts/mixture-models/) describes the math, and you should check out the [mixture membership probabilities](https://dfm.io/posts/mixture-models/#mixture-membership-probabilities) section of that post for more details, but in the meantime, here's an example of how to implement this in NumPyro using out above model:"
   ]
  },
  {
   "cell_type": "code",
   "execution_count": null,
   "metadata": {},
   "outputs": [],
   "source": [
    "def linear_mixture_member_prob_model(x, yerr, y=None):\n",
    "    # Most of the model is identical to the one above...\n",
    "    theta = numpyro.sample(\"theta\", dist.Uniform(-0.5 * jnp.pi, 0.5 * jnp.pi))\n",
    "    b_perp = numpyro.sample(\"b_perp\", dist.Normal(0.0, 1.0))\n",
    "    m = numpyro.deterministic(\"m\", jnp.tan(theta))\n",
    "    b = numpyro.deterministic(\"b\", b_perp / jnp.cos(theta))\n",
    "    fg_dist = dist.Normal(m * x + b, yerr)\n",
    "    bg_mean = numpyro.sample(\"bg_mean\", dist.Normal(0.0, 1.0))\n",
    "    bg_sigma = numpyro.sample(\"bg_sigma\", dist.HalfNormal(3.0))\n",
    "    bg_dist = dist.Normal(bg_mean, jnp.sqrt(bg_sigma**2 + yerr**2))\n",
    "    Q = numpyro.sample(\"Q\", dist.Uniform(0.0, 1.0))\n",
    "    mixture = dist.MixtureGeneral(\n",
    "        dist.Categorical(probs=jnp.array([Q, 1.0 - Q])), [fg_dist, bg_dist]\n",
    "    )\n",
    "    with numpyro.plate(\"data\", len(x)):\n",
    "        y_ = numpyro.sample(\"obs\", mixture, obs=y)\n",
    "\n",
    "        # Until here, where we can track the membership probability of each sample\n",
    "        log_probs = mixture.component_log_probs(y_)\n",
    "        numpyro.deterministic(\n",
    "            \"p\", log_probs - jax.nn.logsumexp(log_probs, axis=-1, keepdims=True)\n",
    "        )\n",
    "\n",
    "\n",
    "# Our inference procedure is identical to the one above.\n",
    "sampler = infer.MCMC(\n",
    "    infer.NUTS(linear_mixture_member_prob_model),\n",
    "    num_warmup=2000,\n",
    "    num_samples=2000,\n",
    "    num_chains=2,\n",
    "    progress_bar=True,\n",
    ")\n",
    "%time sampler.run(jax.random.PRNGKey(3), x, yerr, y=y)"
   ]
  },
  {
   "cell_type": "markdown",
   "metadata": {},
   "source": [
    "As in the mixture models post, we can use the mixture membership probabilities to plot the data points colored by their probability of being an outlier:"
   ]
  },
  {
   "cell_type": "code",
   "execution_count": null,
   "metadata": {},
   "outputs": [],
   "source": [
    "p_fg = jnp.mean(jnp.exp(sampler.get_samples()[\"p\"][..., 0]), axis=0)\n",
    "plot_data()\n",
    "plt.scatter(x, y, marker=\"s\", s=22, c=1 - p_fg, edgecolor=\"k\", zorder=1000, cmap=\"gray\")\n",
    "plt.colorbar(label=\"outlier probability\");"
   ]
  },
  {
   "cell_type": "markdown",
   "metadata": {},
   "source": [
    "## Example 2: Measuring distances using Gaia parallaxes\n",
    "\n",
    "In astronomy, we often want to measure distances (to stars, galaxies, etc.), but this is actually quite a difficult measurement to make in general.\n",
    "One approach for measuring distances to \"nearby\" stars is to use the [observed parallax](https://en.wikipedia.org/wiki/Stellar_parallax), the apparent shift in position of a star (relative to some reference frame) as our observing angle changes (e.g. as the Earth orbits the Sun).\n",
    "[The Gaia Mission](https://sci.esa.int/web/gaia) is a European Space Agency mission that is currently measuring the parallaxes of millions of stars in our Galaxy, and we can use these measurements to infer the distances to these stars.\n",
    "In this tutorial we will look into making such measurements using NumPyro.\n",
    "\n",
    "Before diving in too deep, I should emphasize that I'm very much not an expert in this field (I just thought it was cool example to try!), so even though I've tried to do/say sensible things here, there may be details that I've missed from the astrophysics perspective.\n",
    "Furthermore, the final model in this section, while pretty rad, isn't necessarily the best model for measuring the distance to M67 using Gaia, and if you want to use this in production, you may want to include other measurements like proper motion.\n",
    "If you do see any issues, please let me know by [opening an issue on the GitHub repo for this post](https://github.com/dfm-io/post--intro-to-numpyro/issues), or by emailing me!\n",
    "\n",
    "For the purposes of this tutorial, I downloaded a sample of measured parallaxes from [the public Gaia Data Release 3 catalog](https://gea.esac.esa.int/archive/) for stars in the direction of the [M67 star cluster](https://en.wikipedia.org/wiki/Messier_67).\n",
    "Take a look at [here](https://github.com/dfm-io/post--intro-to-numpyro/blob/main/data/README.md) for the specific query that I used.\n",
    "Let's load these data and take a look at what we see:"
   ]
  },
  {
   "cell_type": "code",
   "execution_count": null,
   "metadata": {},
   "outputs": [],
   "source": [
    "from astropy.io import fits\n",
    "\n",
    "with fits.open(\"data/m67.fits.gz\") as f:\n",
    "    data = f[1].data\n",
    "\n",
    "mask = np.isfinite(data[\"parallax\"])\n",
    "mask &= np.isfinite(data[\"parallax_error\"])\n",
    "mask &= data[\"parallax\"] > 0.2\n",
    "mask &= data[\"parallax\"] < 3.0\n",
    "data = data[mask]\n",
    "\n",
    "plt.figure(figsize=(6, 6))\n",
    "plt.plot(data[\"ra\"], data[\"dec\"], \".k\", ms=1)\n",
    "plt.xlabel(\"R.A. [deg]\")\n",
    "plt.ylabel(\"Dec. [deg]\")\n",
    "plt.title(\"Gaia DR3 targets around M67\")\n",
    "\n",
    "plt.figure()\n",
    "plt.hist(data[\"parallax\"], 120, histtype=\"step\", color=\"k\")\n",
    "plt.xlabel(\"parallax [mas]\")\n",
    "plt.ylabel(\"count\")\n",
    "plt.title(\"Gaia DR3 targets around M67\")\n",
    "plt.xlim(0.2, 3.0);"
   ]
  },
  {
   "cell_type": "markdown",
   "metadata": {},
   "source": [
    "We can see the M67 over-density of stars in both sky position, and parallax.\n",
    "By the end of this example, we will use (just) these parallax measurements to constrain the distance to M67.\n",
    "\n",
    "But to start with, we need to estimate the expected parallax zero point offsets for all of our targets.\n",
    "To do this, we can use the [gaiadr3-zeropoint](https://pypi.org/project/gaiadr3-zeropoint) Python package:"
   ]
  },
  {
   "cell_type": "code",
   "execution_count": null,
   "metadata": {},
   "outputs": [],
   "source": [
    "import warnings\n",
    "from zero_point import zpt\n",
    "\n",
    "zpt.load_tables()\n",
    "with warnings.catch_warnings():\n",
    "    warnings.filterwarnings(\"ignore\")\n",
    "    plx_zp = zpt.get_zpt(\n",
    "        data[\"phot_g_mean_mag\"],\n",
    "        data[\"nu_eff_used_in_astrometry\"],\n",
    "        data[\"pseudocolour\"],\n",
    "        data[\"ecl_lat\"],\n",
    "        data[\"astrometric_params_solved\"],\n",
    "    )\n",
    "plx_zp[~np.isfinite(plx_zp)] = 0.0"
   ]
  },
  {
   "cell_type": "markdown",
   "metadata": {},
   "source": [
    "With these in hand, we can start with a warmup.\n",
    "\n",
    "### Warmup: Measuring the distance to a star\n",
    "\n",
    "Let's start with a simple example of measuring the distance to a single star from this sample.\n",
    "This may seem simple (\"the distance is just the inverse of parallax, right?\"), but as has been extensively discussed in the literature (see, for example, this seminal paper: [Bailer-Jones 2015](https://arxiv.org/abs/1507.02105)), things aren't quite so simple.\n",
    "A common practice in this field is to use a probabilistic model for the parallax measurements with a sensible prior on the distance to more robustly propagate the measurement uncertainty to the distance constraint.\n",
    "[Bailer-Jones (2015)](https://arxiv.org/abs/1507.02105) and other subsequent publications advocate for the following prior on the distance $r$:\n",
    "$$\n",
    "p(r) = \\frac{r^2}{2\\,L^3}\\,e^{-r/L}\n",
    "$$\n",
    "where $L$ is a length scale parameter that will depend on the sky position of the target, and possibly other parameters.\n",
    "\n",
    "To use this prior in NumPyro, we need to figure out how to specify it using the existing `Distribution` objects, or by implementing a custom distribution.\n",
    "When I first started writing this post I couldn't figure out how to sample from this prior, but then I realized that it's just a [chi-squared distribution](https://en.wikipedia.org/wiki/Chi-squared_distribution) with 6 degrees of freedom.\n",
    "More explicitly, if some variable $u$ is distributed as a chi-squared distribution with 6 degrees of freedom, then $r = u \\times L / 2$ is distributed following the distribution above.\n",
    "To implement this in NumPyro, we can use the `Chi2` distribution, and then scale it by the appropriate factor.\n",
    "Let's check to make sure that that gives the correct results:"
   ]
  },
  {
   "cell_type": "code",
   "execution_count": null,
   "metadata": {},
   "outputs": [],
   "source": [
    "L = 370.0  # A totally arbitrary choice!\n",
    "prior = dist.TransformedDistribution(\n",
    "    dist.Chi2(6),\n",
    "    dist.transforms.AffineTransform(0.0, 0.5 * L),\n",
    ")\n",
    "r = prior.sample(jax.random.PRNGKey(0), sample_shape=(100_000,))\n",
    "\n",
    "x = np.linspace(0, 5000, 500)\n",
    "plt.hist(r, 100, range=(0, 5000), density=True, histtype=\"step\", label=\"samples\")\n",
    "plt.plot(x, 0.5 * x**2 * np.exp(-x / L) / L**3, \"--\", label=\"exact pdf\")\n",
    "plt.xlabel(\"distance [pc]\")\n",
    "plt.yticks([])\n",
    "plt.legend();"
   ]
  },
  {
   "cell_type": "markdown",
   "metadata": {},
   "source": [
    "That looks good!\n",
    "\n",
    "We have also just introduced two new NumPyro features: the `TransformedDistribution` distribution and the `AffineTransform`.\n",
    "The former allows us to specify a distribution that is a transformation of another distribution, and the latter provides an interface for linearly transforming a distribution.\n",
    "In simple cases, these features can be overkill (and we'll start with an example where we don't use them), but for more complicated problems, they can really come in handy for building expressive distributions like the one we'll get to eventually.\n",
    "\n",
    "Now that we've got our prior sorted out, let's implement a simple model to estimate the parallax of one target from our sample.\n",
    "Here's our implementation (note that we're not directly using the `AffineTransform` here, but we could have):"
   ]
  },
  {
   "cell_type": "code",
   "execution_count": null,
   "metadata": {},
   "outputs": [],
   "source": [
    "def gaia_single_model(plx_err, plx=None, plx_zp=0.0, L=370.0):\n",
    "    normed = numpyro.sample(\"normed\", dist.Chi2(6))\n",
    "    distance = numpyro.deterministic(\"r\", 0.5 * L * normed)\n",
    "    numpyro.sample(\"plx\", dist.Normal(1000.0 / distance + plx_zp, plx_err), obs=plx)"
   ]
  },
  {
   "cell_type": "markdown",
   "metadata": {},
   "source": [
    "In this implementation we have included input parameters for the parallax zero point offset and the prior length scale.\n",
    "For the purposes of our demonstration, we'll set these parameters to arbitrary values, but they should be treated with more care if you wanted to use such a model in practice.\n",
    "\n",
    "Before we run inference, let's look at how we can use this function to sample from our prior.\n",
    "As we did with the posterior predictive checks above, we can use the `Predictive` interface to sample from the prior:"
   ]
  },
  {
   "cell_type": "code",
   "execution_count": null,
   "metadata": {},
   "outputs": [],
   "source": [
    "prior_samples = infer.Predictive(gaia_single_model, num_samples=100_000)(\n",
    "    jax.random.PRNGKey(4), 0.5\n",
    ")\n",
    "prior_samples = az.from_dict(prior_samples, num_chains=1)\n",
    "fig = corner.corner(\n",
    "    prior_samples,\n",
    "    var_names=[\"r\", \"plx\"],\n",
    "    labels=[\"distance\", \"observed parallax\"],\n",
    "    range=[(0, 4000), (0, 6)],\n",
    ")\n",
    "fig.suptitle(\"prior predictive distribution\");"
   ]
  },
  {
   "cell_type": "markdown",
   "metadata": {},
   "source": [
    "Note that in this figure the relationship between distance and parallax is not one-to-one because this distribution takes the sampling distribution for the parallax into account.\n",
    "Therefore, this shows the prior distribution over _mean observed parallax_ given some parallax uncertainty, which we provided above.\n",
    "These prior predictive samples can be useful for (at least qualitatively) checking that your priors are sensible when projected into the space of the data.\n",
    "\n",
    "Now that our model is set up, we can run inference for one of the (relatively low signal-to-noise) targets in the sample.\n",
    "Note that I wouldn't generally advocate for using MCMC to do posterior inference in a one-dimensional model—it's pretty much always better to use quadrature or something in 1D—but here we go!"
   ]
  },
  {
   "cell_type": "code",
   "execution_count": null,
   "metadata": {},
   "outputs": [],
   "source": [
    "snr = data[\"parallax\"] / data[\"parallax_error\"]\n",
    "single_ind = np.argsort(snr)[115]\n",
    "plx = data[single_ind][\"parallax\"]\n",
    "plx_err = data[single_ind][\"parallax_error\"]\n",
    "sampler = infer.MCMC(\n",
    "    infer.NUTS(gaia_single_model),\n",
    "    num_warmup=2000,\n",
    "    num_samples=4000,\n",
    "    num_chains=2,\n",
    ")\n",
    "%time sampler.run(jax.random.PRNGKey(5), plx_err, plx=plx, plx_zp=plx_zp[single_ind])\n",
    "\n",
    "samples_single = sampler.get_samples()\n",
    "plt.hist(samples_single[\"r\"], 30, histtype=\"step\", color=\"k\", label=\"posterior\")\n",
    "plt.axvline(1000.0 / plx, label=\"inverse parallax\")\n",
    "plt.xlabel(f\"distance to target number {single_ind} [pc]\")\n",
    "plt.ylabel(\"posterior density\")\n",
    "plt.legend(loc=1)\n",
    "plt.yticks([]);"
   ]
  },
  {
   "cell_type": "markdown",
   "metadata": {},
   "source": [
    "This is a case where the inferred distance is somewhat inconsistent with the value computed by inverting the parallax as a distance estimator.\n",
    "\n",
    "### Inferring the distance to M67 using a hierarchical model for parallax\n",
    "\n",
    "Now that we've seen how the single target model works, let's build a more sophisticated model that combines everything that we've learned so far.\n",
    "In this section, we'll build a joint (hierarchical) model for all 4300 targets in the sample to simultaneously fit for:\n",
    "\n",
    "1. the individual distances to each target $r_n$,\n",
    "2. the fraction of targets that are cluster members $Q$ (based only on the parallax, mind you!),\n",
    "3. the background length scale of the background (and foreground) distribution $L$, and\n",
    "4. the distance $D$ and width $\\sigma$ (in log distance) of M67.\n",
    "\n",
    "We're modeling the cluster itself as a Gaussian in log distance, and the background using the Bailer-Jones distribution discussed above with the length scale as a free parameter.\n",
    "This model has 4304 parameters (4 population parameters and then one distance for each target), so this would be pretty hard to sample with most MCMC methods, but as we'll see below, NumPyro has no problem.\n",
    "\n",
    "Here's our implementation of the model:"
   ]
  },
  {
   "cell_type": "code",
   "execution_count": null,
   "metadata": {},
   "outputs": [],
   "source": [
    "def gaia_cluster_model(plx_err, plx=None, plx_zp=0.0):\n",
    "    # We start by defining our priors on the population parameters described\n",
    "    # above. For most, of these parameters, we use wide Gaussian priors in log\n",
    "    # since our main information about these parameters is that they must be\n",
    "    # positive. We could have also used uniform priors (perhaps still in the\n",
    "    # log), but you'll often get better performance using a prior with some\n",
    "    # curvature.\n",
    "    log_L = numpyro.sample(\"log_L\", dist.Normal(np.log(370.0), 2.0))\n",
    "    log_D = numpyro.sample(\"log_D\", dist.Normal(np.log(920.0), 2.0))\n",
    "    log_sigma = numpyro.sample(\"log_sigma\", dist.Normal(0.0, 2.0))\n",
    "    Q = numpyro.sample(\"Q\", dist.Uniform(0.0, 1.0))\n",
    "\n",
    "    # We'll track some reparameterized values for plotting later.\n",
    "    L = numpyro.deterministic(\"L\", jnp.exp(log_L))\n",
    "    numpyro.deterministic(\"D\", jnp.exp(log_D))\n",
    "\n",
    "    # We're also going to track the approximate size of the cluster in linear\n",
    "    # space, also for plotting purposes. This is only an approximation since\n",
    "    # we're modeling the cluster in log distance, but it should be close enough\n",
    "    # for making some plots.\n",
    "    numpyro.deterministic(\"approx_size\", jnp.exp(log_sigma + log_D))\n",
    "\n",
    "    with numpyro.plate(\"stars\", len(plx_err)):\n",
    "\n",
    "        # The background distance distribution is the same as the one we used\n",
    "        # above, but this time we fit for the length scale L. Another difference\n",
    "        # is that we're \"transforming\" the distribution using an affine\n",
    "        # transformation, instead of sampling in the \"normalized distance\" and\n",
    "        # then multiplying by 0.5*L like we did above. These two approaches are\n",
    "        # equivalent, but we need to specify a single distribution here for use\n",
    "        # in the MixtureGeneral distribution below.\n",
    "        dist_bg = dist.TransformedDistribution(\n",
    "            dist.Chi2(6), ScaleTransform(0.5 * L)\n",
    "        )\n",
    "\n",
    "        # The foreground distribution is a Gaussian in log distance. Like with\n",
    "        # the background distribution, we use a transformation to convert from a\n",
    "        # Gaussian in log distance to a distribution in distance.\n",
    "        dist_fg = dist.TransformedDistribution(\n",
    "            dist.Normal(log_D, jnp.exp(log_sigma)),\n",
    "            dist.transforms.ExpTransform(),\n",
    "        )\n",
    "\n",
    "        # Now we \"mix\" the foreground and background distributions using the\n",
    "        # \"cluster membership fraction\" parameter to specify the mixing weights.\n",
    "        mixture = dist.MixtureGeneral(\n",
    "            dist.Categorical(probs=jnp.stack((Q, 1 - Q), axis=-1)),\n",
    "            [dist_fg, dist_bg],\n",
    "        )\n",
    "        r = numpyro.sample(\"r\", mixture)\n",
    "\n",
    "        # As before, we'll track the probability that each star is a member of\n",
    "        # the cluster. Note that our mixture is a distribution in *distance* so\n",
    "        # we're evaluating the class probabilities using `r` instead of `plx`,\n",
    "        # which is what we would have done in the earlier example. This is the\n",
    "        # right way to do it since, at each step in the MCMC, `r` is our current\n",
    "        # belief about the \"true\" distance to each star, which sets our belief\n",
    "        # about its membership probability.\n",
    "        log_probs = mixture.component_log_probs(r)\n",
    "        numpyro.deterministic(\n",
    "            \"p\", log_probs - jax.nn.logsumexp(log_probs, axis=-1, keepdims=True)\n",
    "        )\n",
    "\n",
    "        # Finally, we convert the distance to parallax and add the zero-point offset.\n",
    "        plx_true = numpyro.deterministic(\"plx_true\", 1000.0 / r + plx_zp)\n",
    "        numpyro.sample(\"plx_obs\", dist.Normal(plx_true, plx_err), obs=plx)\n",
    "\n",
    "\n",
    "# This is a custom AffineTransform class that properly propagates positive support.\n",
    "class ScaleTransform(dist.transforms.AffineTransform):\n",
    "    def __init__(self, scale):\n",
    "        super().__init__(0.0, scale, domain=dist.constraints.positive)\n",
    "    \n",
    "    @property\n",
    "    def codomain(self):\n",
    "        return dist.constraints.positive"
   ]
  },
  {
   "cell_type": "markdown",
   "metadata": {},
   "source": [
    "As above, let's see what our prior predictive distribution looks like:"
   ]
  },
  {
   "cell_type": "code",
   "execution_count": null,
   "metadata": {},
   "outputs": [],
   "source": [
    "# The array parallax errors is required by the model even when prior sampling.\n",
    "# In our model, the parallax errors aren't _data_, they are part of the model.\n",
    "plx = np.ascontiguousarray(data[\"parallax\"], dtype=np.float32)\n",
    "plx_err = np.ascontiguousarray(data[\"parallax_error\"], dtype=np.float32)\n",
    "\n",
    "# Generate samples from the prior...\n",
    "prior_pred = infer.Predictive(gaia_cluster_model, num_samples=50)(\n",
    "    jax.random.PRNGKey(11), plx_err, plx_zp=plx_zp\n",
    ")\n",
    "\n",
    "# ...and plot them:\n",
    "label = \"prior samples\"\n",
    "for n in range(len(prior_pred[\"plx_obs\"])):\n",
    "    plt.hist(\n",
    "        prior_pred[\"plx_obs\"][n],\n",
    "        100,\n",
    "        range=(0.2, 3.0),\n",
    "        histtype=\"step\",\n",
    "        color=\"k\",\n",
    "        lw=0.5,\n",
    "        alpha=0.5,\n",
    "        label=label,\n",
    "    )\n",
    "    label = None\n",
    "\n",
    "plt.hist(data[\"parallax\"], 120, histtype=\"step\", color=\"C0\", label=\"data\")\n",
    "plt.legend()\n",
    "plt.xlabel(\"mean parallax [mas]\")\n",
    "plt.ylabel(\"count\")\n",
    "plt.xlim(0.2, 3);"
   ]
  },
  {
   "cell_type": "markdown",
   "metadata": {},
   "source": [
    "Comparing the observed distribution of parallax measurements to the prior samples, this doesn't look like an outrageously implausible realization.\n",
    "So let's just bite the bullet and run the MCMC:"
   ]
  },
  {
   "cell_type": "code",
   "execution_count": null,
   "metadata": {},
   "outputs": [],
   "source": [
    "sampler = infer.MCMC(\n",
    "    infer.NUTS(gaia_cluster_model),\n",
    "    num_warmup=2000,\n",
    "    num_samples=4000,\n",
    "    num_chains=2,\n",
    "    progress_bar=True,\n",
    ")\n",
    "%time sampler.run(jax.random.PRNGKey(7), plx_err, plx=plx, plx_zp=plx_zp)"
   ]
  },
  {
   "cell_type": "markdown",
   "metadata": {},
   "source": [
    "Again, the published version of this post was executed on GitHub Actions, so you'll probably find that this runs a little faster on your own machine (this takes about 5 minutes on my laptop).\n",
    "Even so, this model definitely takes a little longer to run than the earlier examples, but remember that we're fitting thousands of parameters here, so I'm willing to take this hit as long as the results are sensible.\n",
    "Let's take a look at the results:"
   ]
  },
  {
   "cell_type": "code",
   "execution_count": null,
   "metadata": {},
   "outputs": [],
   "source": [
    "samples = sampler.get_samples()\n",
    "inf_data = az.from_numpyro(sampler)\n",
    "corner.corner(\n",
    "    inf_data,\n",
    "    var_names=[\"L\", \"D\", \"approx_size\", \"Q\"],\n",
    "    labels=[\"L [pc]\", \"D [pc]\", \"$\\sigma$ [pc]\", \"Q\"],\n",
    ")\n",
    "az.summary(inf_data, var_names=[\"L\", \"D\", \"approx_size\", \"Q\"])"
   ]
  },
  {
   "cell_type": "markdown",
   "metadata": {},
   "source": [
    "The sampling efficiency isn't quite as good as it has been for the simpler models, but the $\\hat{R}$ statistics are good and we've still generated hundreds of effective samples, with thousands of effective samples for the cluster distance.\n",
    "Given these results, we estimate the distance to M67 to be:"
   ]
  },
  {
   "cell_type": "code",
   "execution_count": null,
   "metadata": {},
   "outputs": [],
   "source": [
    "print(f\"D = {np.mean(samples['D']):.1f} ± {np.std(samples['D']):.1f} pc\")"
   ]
  },
  {
   "cell_type": "markdown",
   "metadata": {},
   "source": [
    "with an intrinsic width of:"
   ]
  },
  {
   "cell_type": "code",
   "execution_count": null,
   "metadata": {},
   "outputs": [],
   "source": [
    "print(\n",
    "    f\"sigma = {np.mean(samples['approx_size']):.1f} ± {np.std(samples['approx_size']):.1f} pc\"\n",
    ")"
   ]
  },
  {
   "cell_type": "markdown",
   "metadata": {},
   "source": [
    "Please note that specifics of these results should be taken with a grain of salt, since there are several subtleties that have not been carefully handled.\n",
    "This result is quite sensitive to the parallax zero point offsets, and any uncertainty in that should be taken into account.\n",
    "Similarly, I didn't do anything to remove binary stars from the sample, or to provide more information (e.g. proper motions) to help constrain the cluster membership probability.\n",
    "\n",
    "That being said, let's see what we can say about the cluster membership probability for each target.\n",
    "Since our measurement of the cluster membership is based _only_ on our inferred distance, our sample of cluster members is not very clean, but if we plot the color magnitude diagram for our sample colored by the cluster membership probability, things look pretty good:"
   ]
  },
  {
   "cell_type": "code",
   "execution_count": null,
   "metadata": {},
   "outputs": [],
   "source": [
    "p_cluster = jnp.mean(jnp.exp(samples[\"p\"][..., 0]), axis=0)\n",
    "idx = jnp.argsort(p_cluster)\n",
    "plt.figure(figsize=(12, 8))\n",
    "dm = np.median(5 * np.log10(samples[\"r\"]) - 5, axis=0)\n",
    "plt.scatter(\n",
    "    data[\"bp_rp\"][idx],\n",
    "    data[\"phot_g_mean_mag\"][idx] - dm[idx],\n",
    "    s=8,\n",
    "    c=p_cluster[idx],\n",
    "    cmap=\"gray_r\",\n",
    "    edgecolors=\"k\",\n",
    "    linewidths=0.5,\n",
    "    vmin=0,\n",
    "    vmax=1,\n",
    ")\n",
    "plt.ylim(10, -2)\n",
    "plt.xlim(0, 3)\n",
    "plt.colorbar(label=\"cluster membership probability\")\n",
    "plt.xlabel(\"$G_{BP} - G_{RP}$ [mag]\")\n",
    "plt.ylabel(\"$M_G$ [mag]\");"
   ]
  },
  {
   "cell_type": "markdown",
   "metadata": {},
   "source": [
    "Finally, let's wrap up by looking at the posterior predictive distribution for the parallax measurements to at least qualitatively check our modeling choices.\n",
    "As before, we generate realizations of the catalog conditioned on the posterior samples and compare that to the observed distribution of parallax measurements:"
   ]
  },
  {
   "cell_type": "code",
   "execution_count": null,
   "metadata": {},
   "outputs": [],
   "source": [
    "pred = infer.Predictive(gaia_cluster_model, samples)(\n",
    "    jax.random.PRNGKey(10), plx_err, plx_zp=plx_zp\n",
    ")\n",
    "\n",
    "_, bins, _ = plt.hist(plx, 50, histtype=\"step\", lw=2, label=\"observed\")\n",
    "label = \"posterior predictive\"\n",
    "for n in np.random.default_rng(0).integers(len(pred[\"plx_obs\"]), size=100):\n",
    "    plt.hist(\n",
    "        pred[\"plx_obs\"][n],\n",
    "        bins,\n",
    "        histtype=\"step\",\n",
    "        color=\"k\",\n",
    "        alpha=0.1,\n",
    "        lw=0.5,\n",
    "        label=label,\n",
    "    )\n",
    "    label = None\n",
    "plt.legend()\n",
    "plt.xlabel(\"mean parallax [mas]\")\n",
    "plt.ylabel(\"count\")\n",
    "plt.xlim(bins[0], bins[-1]);"
   ]
  },
  {
   "cell_type": "markdown",
   "metadata": {},
   "source": [
    "This looks overall pretty good.\n",
    "We see some systematic differences at small values of parallax that may have been introduced by our initial cut on the parallax measurements.\n",
    "We may also be somewhat overestimating the number of cluster members, possibly since our \"Gaussian in log distance\" model for the cluster is not quite right.\n",
    "All that being said, these results don't seem too bad, and I definitely think we've seen an example where NumPyro's use really shows!\n",
    "\n",
    "## Summary\n",
    "\n",
    "In this post, we've gone through a couple of examples of how one might go about using NumPyro to do Bayesian inference, with a specific focus on applications in astrophysics.\n",
    "I hope that this is useful for anyone who is interested in learning about how to use these types of tools, and perhaps there are even some interesting tidbits for those who are already experts.\n",
    "If you have any comments or questions, please [open an issue on the GitHub repository for this post](https://github.com/dfm-io/post--intro-to-numpyro), [Tweet at me](https://twitter.com/exoplaneteer), or (if you must :D) send an email.\n",
    "\n",
    "_Edit 2022-08-03:_ Incorporated some comments from Morgan Fouesneau."
   ]
  },
  {
   "cell_type": "code",
   "execution_count": null,
   "metadata": {},
   "outputs": [],
   "source": []
  }
 ],
 "metadata": {
  "kernelspec": {
   "display_name": ".venv",
   "language": "python",
   "name": "python3"
  },
  "language_info": {
   "codemirror_mode": {
    "name": "ipython",
    "version": 3
   },
   "file_extension": ".py",
   "mimetype": "text/x-python",
   "name": "python",
   "nbconvert_exporter": "python",
   "pygments_lexer": "ipython3",
   "version": "3.10.14"
  }
 },
 "nbformat": 4,
 "nbformat_minor": 2
}
