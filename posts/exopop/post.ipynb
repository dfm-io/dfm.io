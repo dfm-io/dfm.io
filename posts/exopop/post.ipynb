{
 "cells": [
  {
   "cell_type": "markdown",
   "metadata": {},
   "source": [
    "**Warning** *this is an extremely technical blog post (even for me) but I think that it's an interesting experiment so I thought I would post it anyways!*\n",
    "\n",
    "The *Kepler* Mission has been a great success story for open science. The recent data releases have been on a fast and regular schedule and the data products are sometimes made public before the science office publishes their papers. Therefore, when the most recent installment in the \"rate of Earths\" saga—a discussion [close to my heart](http://arxiv.org/abs/1406.3020)—hit the ArXiv as [Burke et al. (2015)](http://arxiv.org/abs/1506.04175), I decided to see if I could reproduce their results by following the steps described in their paper. Crazy, right?\n",
    "\n",
    "In this blog post, I'll go through the steps to reproduce most of their key results as an experiment in *Open Science*. [*Spoiler alert: I dont get exactly the same results but I do come to the same conclusions...*]\n",
    "\n",
    "It's also worth noting that Burke also posted code and results to supplement the paper: [christopherburke/KeplerPORTs](https://github.com/christopherburke/KeplerPORTs).\n",
    "\n",
    "\n",
    "## The science case\n",
    "\n",
    "While the point of this post isn't to discuss the physical implications of this result, it is worth taking a moment to motivate this experiment. One of the key areas of research in exoplanets is (what I like to call) *population inference*; determining the underlying occurrence rate and distribution of exoplanets and their physical properties. This is interesting as a data science problem because we now have large catalogs of exoplanet discoveries and characterizations and it's interesting scientifically because it is the best shot we have of connecting exoplanet observations to theories of the formation and evolution of exoplanet systems. It also places a constraint on the frequency of planets like Earth and planetary systems like our Solar system (Are we alone? and all that...).\n",
    "\n",
    "There has been a huge amount of research in this field but [Burke et al. (2015)](http://arxiv.org/abs/1506.04175) present (arguably) the most careful treatment of the systematic effects based on a characterization of the official *Kepler* pipeline. Even before submission, the data products describing this characterization were all publicly available on the [Exoplanet Archive](http://exoplanetarchive.ipac.caltech.edu/).\n",
    "\n",
    "\n",
    "## The problem\n",
    "\n",
    "The basic data analysis question that we're trying to answer here is: given an incomplete catalog of planet parameters (smaller planets on longer periods are harder to find), what can we say about the underlying distribution of properties? For this model, we'll use the Poisson process likelihood to compute the probability of a set of measurements (e.g. orbital period, planet radius, etc.) $w_k = (P_k,\\,R_k)$, given a parametric model for the underlying \"occurrence rate\" $\\Gamma_\\theta(w)$\n",
    "\n",
    "$$p(\\{w_k\\}\\,|\\,\\theta) = \\exp \\left(\\int Q(w)\\,\\Gamma_\\theta(w)\\,\\mathrm{d}w\\right) \\, \\prod_{k=1}^K Q(w_k)\\,\\Gamma_\\theta(w_k)$$\n",
    "\n",
    "where $Q(w)$ is an estimate of the (mean) detection efficiency (or completeness) as a function of the parameters $w$. Then, we just need to optimize for $\\theta$ or choose a prior $p(\\theta)$ and sample using MCMC. Like Burke et al., we'll build our model in orbital period (in days) and planet radius (in Earth radii) and use a product of independent power laws in the two dimensions for $\\Gamma_\\theta (w) = \\Gamma_\\theta (P)\\,\\Gamma_\\theta (R)$.\n",
    "\n",
    "\n",
    "## The data\n",
    "\n",
    "To start, let's download (and cache) the dataset from the Exoplanet Archive. Don't worry about the details of these functions but what they do is download the csv tables (`q1_q16_stellar` and `q1_q16_koi`) and save them as a pandas block.\n",
    "\n",
    "*Edit: for the purposes of reproducibility I've saved the pre-generated tables to Zenodo and we'll download those first. But, the code used to create these data files is still included below if you don't want to use the pre-generated files.*"
   ]
  },
  {
   "cell_type": "code",
   "execution_count": null,
   "metadata": {},
   "outputs": [],
   "source": [
    "!mkdir -p data\n",
    "!wget -qO data/q1_q16_koi.h5 \"https://zenodo.org/record/6615440/files/q1_q16_koi.h5?download=1\"\n",
    "!wget -qO data/q1_q16_stellar.h5 \"https://zenodo.org/record/6615440/files/q1_q16_stellar.h5?download=1\""
   ]
  },
  {
   "cell_type": "code",
   "execution_count": null,
   "metadata": {
    "jupyter": {
     "outputs_hidden": false
    }
   },
   "outputs": [],
   "source": [
    "import os\n",
    "import requests\n",
    "import pandas as pd\n",
    "from io import BytesIO\n",
    "\n",
    "\n",
    "def get_catalog(name, basepath=\"data\", columns=\"*\"):\n",
    "    fn = os.path.join(basepath, \"{0}.h5\".format(name))\n",
    "    if os.path.exists(fn):\n",
    "        print(\"Using cached data file.\")\n",
    "        return pd.read_hdf(fn, name)\n",
    "    if not os.path.exists(basepath):\n",
    "        os.makedirs(basepath)\n",
    "    print(\"Downloading {0}...\".format(name))\n",
    "    url = (\n",
    "        \"http://exoplanetarchive.ipac.caltech.edu/cgi-bin/nstedAPI/\"\n",
    "        \"nph-nstedAPI?table={0}&select={1}\"\n",
    "    ).format(name, columns)\n",
    "    r = requests.get(url)\n",
    "    if r.status_code != requests.codes.ok:\n",
    "        r.raise_for_status()\n",
    "    fh = BytesIO(r.content)\n",
    "    df = pd.read_csv(fh)\n",
    "    df.to_hdf(fn, name, format=\"t\")\n",
    "    return df"
   ]
  },
  {
   "cell_type": "markdown",
   "metadata": {},
   "source": [
    "Now we will make the cuts on the stellar sample to select the G and K dwarfs:\n",
    "\n",
    "* $4200\\,K \\le T_\\mathrm{eff} \\le 6100\\,K$,\n",
    "* $R_\\star \\le 1.15\\,R_\\odot$,\n",
    "* $T_\\mathrm{obs} > 2\\,\\mathrm{yr}$,\n",
    "* $f_\\mathrm{duty} > 0.6$, and\n",
    "* $\\mathrm{robCDPP7.5} \\le 1000\\,\\mathrm{ppm}$."
   ]
  },
  {
   "cell_type": "code",
   "execution_count": null,
   "metadata": {
    "jupyter": {
     "outputs_hidden": false
    }
   },
   "outputs": [],
   "source": [
    "import numpy as np\n",
    "\n",
    "thresh = [1.5, 2.0, 2.5, 3.0, 3.5, 4.5, 5.0, 6.0, 7.5, 9.0, 10.5, 12.0, 12.5, 15.0]\n",
    "cols = [\n",
    "    \"mesthres{0:02.0f}p{1:.0f}\".format(np.floor(t), 10 * (t - np.floor(t)))\n",
    "    for t in thresh\n",
    "]\n",
    "stlr = get_catalog(\n",
    "    \"q1_q16_stellar\",\n",
    "    columns=\"kepid,teff,logg,radius,mass,dataspan,dutycycle,rrmscdpp07p5,\"\n",
    "    + \",\".join(cols),\n",
    ")\n",
    "\n",
    "# Select G and K dwarfs.\n",
    "m = (4200 <= stlr.teff) & (stlr.teff <= 6100)\n",
    "m &= stlr.radius <= 1.15\n",
    "\n",
    "# Only include stars with sufficient data coverage.\n",
    "m &= stlr.dataspan > 365.25 * 2.0\n",
    "m &= stlr.dutycycle > 0.6\n",
    "m &= stlr.rrmscdpp07p5 <= 1000.0\n",
    "\n",
    "# Only select stars with mass estimates.\n",
    "m &= np.isfinite(stlr.mass)\n",
    "\n",
    "base_stlr = pd.DataFrame(stlr)\n",
    "stlr = pd.DataFrame(stlr[m])\n",
    "\n",
    "print(\"Selected {0} targets after cuts\".format(len(stlr)))"
   ]
  },
  {
   "cell_type": "markdown",
   "metadata": {},
   "source": [
    "After applying these same cuts to a pre-release version of this catalog, Burke et al. found 91,567 targets.\n",
    "\n",
    "[*Using the machine readable version of their Table 1, I tried to work out the reason for this difference and I couldn't reverse engineer any cause. Some of the targets missing from our catalog are just artificially fixed at Solar values so they seem reasonable to skip. This effect explains about half the difference between the results.*]\n",
    "\n",
    "We can now make a plot of the HR diagram of these sources to reproduce Figure 3 from Burke et al.:"
   ]
  },
  {
   "cell_type": "code",
   "execution_count": null,
   "metadata": {
    "jupyter": {
     "outputs_hidden": false
    }
   },
   "outputs": [],
   "source": [
    "import matplotlib.pyplot as pl\n",
    "\n",
    "pl.plot(base_stlr.teff, base_stlr.logg, \".k\", ms=3, alpha=0.5)\n",
    "pl.plot(stlr.teff, stlr.logg, \".r\", ms=3, alpha=0.5)\n",
    "pl.xlim(9500, 2500)\n",
    "pl.ylim(5.5, 3)\n",
    "pl.ylabel(\"$\\log g$\")\n",
    "pl.xlabel(\"$T_\\mathrm{eff}$\");"
   ]
  },
  {
   "cell_type": "markdown",
   "metadata": {},
   "source": [
    "Next up, let's make the cuts on the KOI list:\n",
    "\n",
    "* disposition from the Q1-Q16 pipeline run: `CANDIDATE`,\n",
    "* $50\\,\\mathrm{day} \\le P \\le 300\\,\\mathrm{day}$, and\n",
    "* $0.75\\,R_\\oplus \\le R \\le 2.5\\,R_\\oplus$."
   ]
  },
  {
   "cell_type": "code",
   "execution_count": null,
   "metadata": {
    "jupyter": {
     "outputs_hidden": false
    }
   },
   "outputs": [],
   "source": [
    "kois = get_catalog(\n",
    "    \"q1_q16_koi\",\n",
    "    columns=\"kepid,koi_pdisposition,koi_period,koi_prad,koi_prad_err1,koi_prad_err2\",\n",
    ")\n",
    "\n",
    "period_rng = (50, 300)\n",
    "rp_rng = (0.75, 2.5)\n",
    "\n",
    "# Join on the stellar list.\n",
    "kois = pd.merge(kois, stlr[[\"kepid\"]], on=\"kepid\", how=\"inner\")\n",
    "\n",
    "# Only select the KOIs in the relevant part of parameter space.\n",
    "m = kois.koi_pdisposition == \"CANDIDATE\"\n",
    "m &= np.isfinite(kois.koi_period)\n",
    "m &= np.isfinite(kois.koi_prad)\n",
    "base_kois = pd.DataFrame(kois[m])\n",
    "m &= (period_rng[0] <= kois.koi_period) & (kois.koi_period <= period_rng[1])\n",
    "m &= (rp_rng[0] <= kois.koi_prad) & (kois.koi_prad <= rp_rng[1])\n",
    "\n",
    "kois = pd.DataFrame(kois[m])\n",
    "\n",
    "print(\"Selected {0} KOIs after cuts\".format(len(kois)))"
   ]
  },
  {
   "cell_type": "markdown",
   "metadata": {},
   "source": [
    "Burke et al. find 156 KOIs instead of our 154 again because of their pre-release version of the catalog and changing dispositions. As we'll see, this doesn't have a huge effect on the results even though there's some risk of being dominated by small number statistics.\n",
    "\n",
    "Now, let's plot the distribution of measured physical parameters in this catalog of KOIs. Unlike most versions of this plot, here we'll include the error bars on the radii as a reminder that many of the radii are very poorly constrained!"
   ]
  },
  {
   "cell_type": "code",
   "execution_count": null,
   "metadata": {
    "jupyter": {
     "outputs_hidden": false
    }
   },
   "outputs": [],
   "source": [
    "yerr = np.abs(np.array(base_kois[[\"koi_prad_err2\", \"koi_prad_err1\"]])).T\n",
    "pl.errorbar(\n",
    "    base_kois.koi_period,\n",
    "    base_kois.koi_prad,\n",
    "    yerr=yerr,\n",
    "    fmt=\".k\",\n",
    "    ms=4,\n",
    "    capsize=0,\n",
    "    alpha=0.3,\n",
    ")\n",
    "pl.plot(kois.koi_period, kois.koi_prad, \".k\", ms=6)\n",
    "pl.fill_between(\n",
    "    period_rng, [rp_rng[1], rp_rng[1]], [rp_rng[0], rp_rng[0]], color=\"g\", alpha=0.2\n",
    ")\n",
    "pl.xlim(period_rng + 10 * np.array([-1, 1]))\n",
    "pl.ylim(rp_rng + 0.5 * np.array([-1, 1]))\n",
    "pl.xlabel(\"period [days]\")\n",
    "pl.ylabel(\"$R_p \\, [R_\\oplus]$\");"
   ]
  },
  {
   "cell_type": "markdown",
   "metadata": {},
   "source": [
    "## The detection efficiency model\n",
    "\n",
    "For this problem of population inference, an important ingredient is a detailed model of the efficiency with which the transit search pipeline detects transit signals. Burke et al. implement an analytic model for the detection efficiency that has been calibrated using simulations in a (submitted but unavailable) paper by Jessie Christiansen. The details of this model are given in the Burke et al. paper so I'll just go ahead and implement it and if you're interested, check out [the paper](http://arxiv.org/abs/1506.04175)."
   ]
  },
  {
   "cell_type": "code",
   "execution_count": null,
   "metadata": {
    "jupyter": {
     "outputs_hidden": false
    }
   },
   "outputs": [],
   "source": [
    "from scipy.stats import gamma\n",
    "\n",
    "\n",
    "def get_duration(period, aor, e):\n",
    "    \"\"\"\n",
    "    Equation (1) from Burke et al. This estimates the transit\n",
    "    duration in the same units as the input period. There is a\n",
    "    typo in the paper (24/4 = 6 != 4).\n",
    "\n",
    "    :param period: the period in any units of your choosing\n",
    "    :param aor:    the dimensionless semi-major axis (scaled\n",
    "                   by the stellar radius)\n",
    "    :param e:      the eccentricity of the orbit\n",
    "\n",
    "    \"\"\"\n",
    "    return 0.25 * period * np.sqrt(1 - e**2) / aor\n",
    "\n",
    "\n",
    "def get_a(period, mstar, Go4pi=2945.4625385377644 / (4 * np.pi * np.pi)):\n",
    "    \"\"\"\n",
    "    Compute the semi-major axis of an orbit in Solar radii.\n",
    "\n",
    "    :param period: the period in days\n",
    "    :param mstar:  the stellar mass in Solar masses\n",
    "\n",
    "    \"\"\"\n",
    "    return (Go4pi * period * period * mstar) ** (1.0 / 3)\n",
    "\n",
    "\n",
    "def get_delta(k, c=1.0874, s=1.0187):\n",
    "    \"\"\"\n",
    "    Estimate the approximate expected transit depth as a function\n",
    "    of radius ratio. There might be a typo here. In the paper it\n",
    "    uses c + s*k but in the public code, it is c - s*k:\n",
    "    https://github.com/christopherburke/KeplerPORTs\n",
    "\n",
    "    :param k: the dimensionless radius ratio between the planet and\n",
    "              the star\n",
    "\n",
    "    \"\"\"\n",
    "    delta_max = k * k * (c + s * k)\n",
    "    return 0.84 * delta_max\n",
    "\n",
    "\n",
    "cdpp_cols = [k for k in stlr.keys() if k.startswith(\"rrmscdpp\")]\n",
    "cdpp_vals = np.array([k[-4:].replace(\"p\", \".\") for k in cdpp_cols], dtype=float)\n",
    "\n",
    "\n",
    "def get_mes(star, period, rp, tau, re=0.009171):\n",
    "    \"\"\"\n",
    "    Estimate the multiple event statistic value for a transit.\n",
    "\n",
    "    :param star:   a pandas row giving the stellar properties\n",
    "    :param period: the period in days\n",
    "    :param rp:     the planet radius in Earth radii\n",
    "    :param tau:    the transit duration in hours\n",
    "\n",
    "    \"\"\"\n",
    "    # Interpolate to the correct CDPP for the duration.\n",
    "    cdpp = np.array(star[cdpp_cols], dtype=float)\n",
    "    sigma = np.interp(tau, cdpp_vals, cdpp)\n",
    "\n",
    "    # Compute the radius ratio and estimate the S/N.\n",
    "    k = rp * re / star.radius\n",
    "    snr = get_delta(k) * 1e6 / sigma\n",
    "\n",
    "    # Scale by the estimated number of transits.\n",
    "    ntrn = star.dataspan * star.dutycycle / period\n",
    "    return snr * np.sqrt(ntrn)\n",
    "\n",
    "\n",
    "# Pre-compute and freeze the gamma function from Equation (5) in\n",
    "# Burke et al.\n",
    "pgam = gamma(4.65, loc=0.0, scale=0.98)\n",
    "mesthres_cols = [k for k in stlr.keys() if k.startswith(\"mesthres\")]\n",
    "mesthres_vals = np.array([k[-4:].replace(\"p\", \".\") for k in mesthres_cols], dtype=float)\n",
    "\n",
    "\n",
    "def get_pdet(star, aor, period, rp, e):\n",
    "    \"\"\"\n",
    "    Equation (5) from Burke et al. Estimate the detection efficiency\n",
    "    for a transit.\n",
    "\n",
    "    :param star:   a pandas row giving the stellar properties\n",
    "    :param aor:    the dimensionless semi-major axis (scaled\n",
    "                   by the stellar radius)\n",
    "    :param period: the period in days\n",
    "    :param rp:     the planet radius in Earth radii\n",
    "    :param e:      the orbital eccentricity\n",
    "\n",
    "    \"\"\"\n",
    "    tau = get_duration(period, aor, e) * 24.0\n",
    "    mes = get_mes(star, period, rp, tau)\n",
    "    mest = np.interp(tau, mesthres_vals, np.array(star[mesthres_cols], dtype=float))\n",
    "    x = mes - 4.1 - (mest - 7.1)\n",
    "    return pgam.cdf(x)\n",
    "\n",
    "\n",
    "def get_pwin(star, period):\n",
    "    \"\"\"\n",
    "    Equation (6) from Burke et al. Estimates the window function\n",
    "    using a binomial distribution.\n",
    "\n",
    "    :param star:   a pandas row giving the stellar properties\n",
    "    :param period: the period in days\n",
    "\n",
    "    \"\"\"\n",
    "    M = star.dataspan / period\n",
    "    f = star.dutycycle\n",
    "    omf = 1.0 - f\n",
    "    pw = (\n",
    "        1\n",
    "        - omf**M\n",
    "        - M * f * omf ** (M - 1)\n",
    "        - 0.5 * M * (M - 1) * f * f * omf ** (M - 2)\n",
    "    )\n",
    "    msk = (pw >= 0.0) * (M >= 2.0)\n",
    "    return pw * msk\n",
    "\n",
    "\n",
    "def get_pgeom(aor, e):\n",
    "    \"\"\"\n",
    "    The geometric transit probability.\n",
    "\n",
    "    See e.g. Kipping (2014) for the eccentricity factor\n",
    "    http://arxiv.org/abs/1408.1393\n",
    "\n",
    "    :param aor: the dimensionless semi-major axis (scaled\n",
    "                by the stellar radius)\n",
    "    :param e:   the orbital eccentricity\n",
    "\n",
    "    \"\"\"\n",
    "    return 1.0 / (aor * (1 - e * e)) * (aor > 1.0)\n",
    "\n",
    "\n",
    "def get_completeness(star, period, rp, e, with_geom=True):\n",
    "    \"\"\"\n",
    "    A helper function to combine all the completeness effects.\n",
    "\n",
    "    :param star:      a pandas row giving the stellar properties\n",
    "    :param period:    the period in days\n",
    "    :param rp:        the planet radius in Earth radii\n",
    "    :param e:         the orbital eccentricity\n",
    "    :param with_geom: include the geometric transit probability?\n",
    "\n",
    "    \"\"\"\n",
    "    aor = get_a(period, star.mass) / star.radius\n",
    "    pdet = get_pdet(star, aor, period, rp, e)\n",
    "    pwin = get_pwin(star, period)\n",
    "    if not with_geom:\n",
    "        return pdet * pwin\n",
    "    pgeom = get_pgeom(aor, e)\n",
    "    return pdet * pwin * pgeom"
   ]
  },
  {
   "cell_type": "markdown",
   "metadata": {},
   "source": [
    "Using this model, lets reproduce Figure 1 from the Burke paper. If you closely compare the figures, you'll find that they're not quite the same but the one in the paper was generated with an older (incomplete) version of the code (Burke, priv. comm.) and the model used is actually the same as this one so we'll roll with it!"
   ]
  },
  {
   "cell_type": "code",
   "execution_count": null,
   "metadata": {
    "jupyter": {
     "outputs_hidden": false
    }
   },
   "outputs": [],
   "source": [
    "# Choose the star.\n",
    "star = stlr[stlr.kepid == 10593626].iloc[0]\n",
    "\n",
    "# Compute the completeness map on a grid.\n",
    "period = np.linspace(10, 700, 500)\n",
    "rp = np.linspace(0.5, 2.5, 421)\n",
    "X, Y = np.meshgrid(period, rp, indexing=\"ij\")\n",
    "Z = get_completeness(star, X, Y, 0.0, with_geom=False)\n",
    "\n",
    "# Plot with the same contour levels as the figure.\n",
    "c = pl.contour(X, Y, Z, [0.01, 0.05, 0.1, 0.25, 0.5, 0.75, 0.9, 0.95, 0.99], colors=\"k\")\n",
    "pl.clabel(c, fontsize=12, inline=1, fmt=\"%.2f\")\n",
    "pl.xlabel(\"period [days]\")\n",
    "pl.ylabel(\"$R_p \\, [R_\\oplus]$\")\n",
    "pl.title(\"det. eff. for KIC10593626\");"
   ]
  },
  {
   "cell_type": "markdown",
   "metadata": {},
   "source": [
    "In practice, the only detection efficiency function that enters our analysis is *integrated across the stellar sample*. In fact, the function $Q(w)$ needs to be integrated (marginalized) over *all the parameters that affect it but aren't of interest*, for example, [we should include eccentricity](http://arxiv.org/abs/1408.1393). For now, following Burke et al., we'll ignore eccentricity and integrate only over the stellar parameters. This cell takes a minute or two to run because it must loop over every star in the sample and compute the completeness on a grid."
   ]
  },
  {
   "cell_type": "code",
   "execution_count": null,
   "metadata": {
    "jupyter": {
     "outputs_hidden": true
    }
   },
   "outputs": [],
   "source": [
    "period = np.linspace(period_rng[0], period_rng[1], 57)\n",
    "rp = np.linspace(rp_rng[0], rp_rng[1], 61)\n",
    "period_grid, rp_grid = np.meshgrid(period, rp, indexing=\"ij\")\n",
    "comp = np.zeros_like(period_grid)\n",
    "for _, star in stlr.iterrows():\n",
    "    comp += get_completeness(star, period_grid, rp_grid, 0.0, with_geom=True)"
   ]
  },
  {
   "cell_type": "markdown",
   "metadata": {},
   "source": [
    "In the target range, here is the completeness function (including the geometric transit probability):"
   ]
  },
  {
   "cell_type": "code",
   "execution_count": null,
   "metadata": {
    "jupyter": {
     "outputs_hidden": false
    }
   },
   "outputs": [],
   "source": [
    "pl.pcolor(period_grid, rp_grid, comp, cmap=\"BuGn\")\n",
    "c = pl.contour(period_grid, rp_grid, comp / len(stlr), colors=\"k\", alpha=0.8)\n",
    "pl.clabel(c, fontsize=12, inline=1, fmt=\"%.3f\")\n",
    "pl.title(\"mean pipeline detection efficiency\")\n",
    "pl.xlabel(\"period [days]\")\n",
    "pl.ylabel(\"$R_p \\, [R_\\oplus]$\");"
   ]
  },
  {
   "cell_type": "markdown",
   "metadata": {},
   "source": [
    "## Population inference\n",
    "\n",
    "Now that we have our sample and our completeness model, we need to specify the underlying population model. Like Burke et al., I've found that the data don't support a broken power law in planet radius so let's just model the population as the product of indpendent power laws in $P$ and $R_p$."
   ]
  },
  {
   "cell_type": "code",
   "execution_count": null,
   "metadata": {
    "jupyter": {
     "outputs_hidden": true
    }
   },
   "outputs": [],
   "source": [
    "# A double power law model for the population.\n",
    "def population_model(theta, period, rp):\n",
    "    lnf0, beta, alpha = theta\n",
    "    v = np.exp(lnf0) * np.ones_like(period)\n",
    "    for x, rng, n in zip((period, rp), (period_rng, rp_rng), (beta, alpha)):\n",
    "        n1 = n + 1\n",
    "        v *= x**n * n1 / (rng[1] ** n1 - rng[0] ** n1)\n",
    "    return v\n",
    "\n",
    "\n",
    "# The ln-likelihood function given at the top of this post.\n",
    "koi_periods = np.array(kois.koi_period)\n",
    "koi_rps = np.array(kois.koi_prad)\n",
    "vol = np.diff(period_grid, axis=0)[:, :-1] * np.diff(rp_grid, axis=1)[:-1, :]\n",
    "\n",
    "\n",
    "def lnlike(theta):\n",
    "    pop = population_model(theta, period_grid, rp_grid) * comp\n",
    "    pop = 0.5 * (pop[:-1, :-1] + pop[1:, 1:])\n",
    "    norm = np.sum(pop * vol)\n",
    "    ll = np.sum(np.log(population_model(theta, koi_periods, koi_rps))) - norm\n",
    "    return ll if np.isfinite(ll) else -np.inf\n",
    "\n",
    "\n",
    "# The ln-probability function is just propotional to the ln-likelihood\n",
    "# since we're assuming uniform priors.\n",
    "bounds = [(-5, 5), (-5, 5), (-5, 5)]\n",
    "\n",
    "\n",
    "def lnprob(theta):\n",
    "    # Broad uniform priors.\n",
    "    for t, rng in zip(theta, bounds):\n",
    "        if not rng[0] < t < rng[1]:\n",
    "            return -np.inf\n",
    "    return lnlike(theta)\n",
    "\n",
    "\n",
    "# The negative ln-likelihood is useful for optimization.\n",
    "# Optimizers want to *minimize* your function.\n",
    "def nll(theta):\n",
    "    ll = lnlike(theta)\n",
    "    return -ll if np.isfinite(ll) else 1e15"
   ]
  },
  {
   "cell_type": "markdown",
   "metadata": {},
   "source": [
    "To start, let's find the maximum likelihood solution for the population parameters by minimizing the negative log-likelihood."
   ]
  },
  {
   "cell_type": "code",
   "execution_count": null,
   "metadata": {
    "jupyter": {
     "outputs_hidden": false
    }
   },
   "outputs": [],
   "source": [
    "from scipy.optimize import minimize\n",
    "\n",
    "theta_0 = np.array([np.log(0.75), -0.53218, -1.5])\n",
    "r = minimize(nll, theta_0, method=\"L-BFGS-B\", bounds=bounds)\n",
    "print(r)"
   ]
  },
  {
   "cell_type": "markdown",
   "metadata": {},
   "source": [
    "...and plot it:"
   ]
  },
  {
   "cell_type": "code",
   "execution_count": null,
   "metadata": {
    "jupyter": {
     "outputs_hidden": false
    }
   },
   "outputs": [],
   "source": [
    "# We'll reuse these functions to plot all of our results.\n",
    "def make_plot(pop_comp, x0, x, y, ax):\n",
    "    pop = 0.5 * (pop_comp[:, 1:] + pop_comp[:, :-1])\n",
    "    pop = np.sum(pop * np.diff(y)[None, :, None], axis=1)\n",
    "    a, b, c, d, e = np.percentile(pop * np.diff(x)[0], [2.5, 16, 50, 84, 97.5], axis=0)\n",
    "\n",
    "    ax.fill_between(x0, a, e, color=\"k\", alpha=0.1, edgecolor=\"none\")\n",
    "    ax.fill_between(x0, b, d, color=\"k\", alpha=0.3, edgecolor=\"none\")\n",
    "    ax.plot(x0, c, \"k\", lw=1)\n",
    "\n",
    "\n",
    "def plot_results(samples):\n",
    "    # Loop through the samples and compute the list of population models.\n",
    "    samples = np.atleast_2d(samples)\n",
    "    pop = np.empty((len(samples), period_grid.shape[0], period_grid.shape[1]))\n",
    "    gamma_earth = np.empty((len(samples)))\n",
    "    for i, p in enumerate(samples):\n",
    "        pop[i] = population_model(p, period_grid, rp_grid)\n",
    "        gamma_earth[i] = population_model(p, 365.25, 1.0) * 365.0\n",
    "\n",
    "    fig, axes = pl.subplots(2, 2, figsize=(10, 8))\n",
    "    fig.subplots_adjust(wspace=0.4, hspace=0.4)\n",
    "\n",
    "    # Integrate over period.\n",
    "    dx = 0.25\n",
    "    x = np.arange(rp_rng[0], rp_rng[1] + dx, dx)\n",
    "    n, _ = np.histogram(koi_rps, x)\n",
    "\n",
    "    # Plot the observed radius distribution.\n",
    "    ax = axes[0, 0]\n",
    "    make_plot(pop * comp[None, :, :], rp, x, period, ax)\n",
    "    ax.errorbar(0.5 * (x[:-1] + x[1:]), n, yerr=np.sqrt(n), fmt=\".k\", capsize=0)\n",
    "    ax.set_xlim(rp_rng[0], rp_rng[1])\n",
    "    ax.set_xlabel(\"$R_p\\,[R_\\oplus]$\")\n",
    "    ax.set_ylabel(\"\\# of detected planets\")\n",
    "\n",
    "    # Plot the true radius distribution.\n",
    "    ax = axes[0, 1]\n",
    "    make_plot(pop, rp, x, period, ax)\n",
    "    ax.set_xlim(rp_rng[0], rp_rng[1])\n",
    "    ax.set_ylim(0, 0.37)\n",
    "    ax.set_xlabel(\"$R_p\\,[R_\\oplus]$\")\n",
    "    ax.set_ylabel(\"$\\mathrm{d}N / \\mathrm{d}R$; $\\Delta R = 0.25\\,R_\\oplus$\")\n",
    "\n",
    "    # Integrate over period.\n",
    "    dx = 31.25\n",
    "    x = np.arange(period_rng[0], period_rng[1] + dx, dx)\n",
    "    n, _ = np.histogram(koi_periods, x)\n",
    "\n",
    "    # Plot the observed period distribution.\n",
    "    ax = axes[1, 0]\n",
    "    make_plot(np.swapaxes(pop * comp[None, :, :], 1, 2), period, x, rp, ax)\n",
    "    ax.errorbar(0.5 * (x[:-1] + x[1:]), n, yerr=np.sqrt(n), fmt=\".k\", capsize=0)\n",
    "    ax.set_xlim(period_rng[0], period_rng[1])\n",
    "    ax.set_ylim(0, 79)\n",
    "    ax.set_xlabel(\"$P\\,[\\mathrm{days}]$\")\n",
    "    ax.set_ylabel(\"\\# of detected planets\")\n",
    "\n",
    "    # Plot the true period distribution.\n",
    "    ax = axes[1, 1]\n",
    "    make_plot(np.swapaxes(pop, 1, 2), period, x, rp, ax)\n",
    "    ax.set_xlim(period_rng[0], period_rng[1])\n",
    "    ax.set_ylim(0, 0.27)\n",
    "    ax.set_xlabel(\"$P\\,[\\mathrm{days}]$\")\n",
    "    ax.set_ylabel(\"$\\mathrm{d}N / \\mathrm{d}P$; $\\Delta P = 31.25\\,\\mathrm{days}$\")\n",
    "\n",
    "    return gamma_earth\n",
    "\n",
    "\n",
    "print(plot_results(r.x));"
   ]
  },
  {
   "cell_type": "markdown",
   "metadata": {},
   "source": [
    "Finally, let's sample from the posterior probability for the population parameters using [emcee](http://dfm.io/emcee)."
   ]
  },
  {
   "cell_type": "code",
   "execution_count": null,
   "metadata": {
    "jupyter": {
     "outputs_hidden": false
    }
   },
   "outputs": [],
   "source": [
    "import emcee\n",
    "\n",
    "ndim, nwalkers = len(r.x), 16\n",
    "pos = [r.x + 1e-5 * np.random.randn(ndim) for i in range(nwalkers)]\n",
    "sampler = emcee.EnsembleSampler(nwalkers, ndim, lnprob)\n",
    "\n",
    "# Burn in.\n",
    "pos, _, _ = sampler.run_mcmc(pos, 1000)\n",
    "sampler.reset()\n",
    "\n",
    "# Production.\n",
    "pos, _, _ = sampler.run_mcmc(pos, 4000)"
   ]
  },
  {
   "cell_type": "code",
   "execution_count": null,
   "metadata": {
    "jupyter": {
     "outputs_hidden": false
    }
   },
   "outputs": [],
   "source": [
    "import corner\n",
    "\n",
    "corner.corner(sampler.flatchain, labels=[r\"$\\ln F$\", r\"$\\beta$\", r\"$\\alpha$\"]);"
   ]
  },
  {
   "cell_type": "code",
   "execution_count": null,
   "metadata": {
    "jupyter": {
     "outputs_hidden": false
    }
   },
   "outputs": [],
   "source": [
    "gamma_earth = plot_results(sampler.flatchain)"
   ]
  },
  {
   "cell_type": "markdown",
   "metadata": {},
   "source": [
    "Comparing this to Figures 6--9 in Burke et al., you'll see that the results are more or less consistent and the predicted observations are good. For radii smaller than $R_\\oplus$, the results start to diverge since I chose to use a single power law in radius instead of the double power law. When I tried to use a double power law, I found that the break radius was immediately pushed below $0.95\\,R_\\oplus$ (the smallest radius in the dataset) and the slope of the smaller radius power law was set only by the prior so it didn't seem necessary to include it here. In practice the final results are still consistent.\n",
    "\n",
    "I would now claim this as a successful reproduction of the results from Burke et al. using only public datasets and their description of their method. One last interesting plot (that you might have noticed I computed in the `plot_results` function) is Figure 17 showing the rate of Earth-analogs defined (following [my definition](http://arxiv.org/abs/1406.3020)) as:\n",
    "\n",
    "$$\\Gamma_\\oplus = \\left.\\frac{\\mathrm{d} N}{\\mathrm{d}\\ln R_p\\,\\mathrm{d}\\ln P} \\right |_\\oplus$$\n",
    "\n",
    "Let's plot the constraint on $\\Gamma_\\oplus$:"
   ]
  },
  {
   "cell_type": "code",
   "execution_count": null,
   "metadata": {
    "jupyter": {
     "outputs_hidden": false
    }
   },
   "outputs": [],
   "source": [
    "pl.hist(np.log10(gamma_earth), 50, histtype=\"step\", color=\"k\")\n",
    "pl.gca().set_yticklabels([])\n",
    "pl.title(\"the rate of Earth analogs\")\n",
    "pl.xlabel(\n",
    "    r\"$\\log_{10}\\Gamma_\\oplus = \\left. \\log_{10}\\mathrm{d}N / \\mathrm{d}\\ln P \\, \\mathrm{d}\\ln R_p \\right |_\\oplus$\"\n",
    ");"
   ]
  },
  {
   "cell_type": "markdown",
   "metadata": {},
   "source": [
    "This plot is consistent with Figure 17 from [Burke et al. (2015)](http://arxiv.org/abs/1506.04175) so we'll leave it here and call this a success for open science! Some of you might notice that this result is inconsistent with many previous estimates of this number (including my own!) but the discussion of this discrepancy is a topic for another day (or maybe a scientific publication).\n",
    "\n",
    "*Thanks to Ruth Angus for reading through and catching some typos!*"
   ]
  },
  {
   "cell_type": "code",
   "execution_count": null,
   "metadata": {
    "jupyter": {
     "outputs_hidden": true
    }
   },
   "outputs": [],
   "source": []
  }
 ],
 "metadata": {
  "interpreter": {
   "hash": "2e72f1bab277edfbe4ac45f0959e8a052987e3fae631afae3790a73210615ebc"
  },
  "kernelspec": {
   "display_name": "Python 3.9.13 ('env': venv)",
   "language": "python",
   "name": "python3"
  },
  "language_info": {
   "codemirror_mode": {
    "name": "ipython",
    "version": 3
   },
   "file_extension": ".py",
   "mimetype": "text/x-python",
   "name": "python",
   "nbconvert_exporter": "python",
   "pygments_lexer": "ipython3",
   "version": "3.9.13"
  }
 },
 "nbformat": 4,
 "nbformat_minor": 4
}
