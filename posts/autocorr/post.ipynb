{
 "cells": [
  {
   "cell_type": "markdown",
   "metadata": {},
   "source": [
    "*This is a cross post from the new* [emcee documentation](http://emcee.readthedocs.io).\n",
    "\n",
    "In this tutorial, we will discuss a method for convincing yourself that your chains are sufficiently converged.\n",
    "This can be a difficult subject to discuss because it isn't formally possible to guarantee convergence for any but the simplest models, and therefore any argument that you make will be circular and heuristic.\n",
    "However, some discussion of autocorrelation analysis is (or should be!) a necessary part of any publication using MCMC.\n",
    "\n",
    "With emcee, we follow [Goodman & Weare (2010)](http://msp.berkeley.edu/camcos/2010/5-1/p04.xhtml) and recommend using the *integrated autocorrelation time* to quantify the effects of sampling error on your results.\n",
    "The basic idea is that the samples in your chain are not independent and you must estimate the effective number of independent samples.\n",
    "There are other convergence diagnostics like the [Gelman–Rubin statistic](http://digitalassets.lib.berkeley.edu/sdtr/ucb/text/305.pdf) (*Note: you should not compute the G–R statistic using multiple chains in the same emcee ensemble because the chains are not independent!*) but, since the integrated autocorrelation time directly quantifies the Monte Carlo error (and hence the efficiency of the sampler) on any integrals computed using the MCMC results, it is the natural quantity of interest when judging the robustness of an MCMC analysis."
   ]
  },
  {
   "cell_type": "markdown",
   "metadata": {},
   "source": [
    "## Monte Carlo error\n",
    "\n",
    "The goal of every MCMC analysis is to evaluate integrals of the form\n",
    "\n",
    "$$\n",
    "\\mathrm{E}_{p(\\theta)}[f(\\theta)] = \\int f(\\theta)\\,p(\\theta)\\,\\mathrm{d}\\theta \\quad.\n",
    "$$\n",
    "\n",
    "If you had some way of generating $N$ samples $\\theta^{(n)}$ from the probability density $p(\\theta)$, then you could approximate this integral as\n",
    "\n",
    "$$\n",
    "\\mathrm{E}_{p(\\theta)}[f(\\theta)] \\approx \\frac{1}{N} \\sum_{n=1}^N f(\\theta^{(n)})\n",
    "$$\n",
    "\n",
    "where the sum is over the samples from $p(\\theta)$.\n",
    "If these samples are independent, then the sampling variance on this estimator is\n",
    "\n",
    "$$\n",
    "\\sigma^2 = \\frac{1}{N}\\,\\mathrm{Var}_{p(\\theta)}[f(\\theta)]\n",
    "$$\n",
    "\n",
    "and the error decreses as $1/\\sqrt{N}$ as you generate more samples.\n",
    "In the case of MCMC, the samples are not independent and the error is actually given by\n",
    "\n",
    "$$\n",
    "\\sigma^2 = \\frac{\\tau_f}{N}\\,\\mathrm{Var}_{p(\\theta)}[f(\\theta)]\n",
    "$$\n",
    "\n",
    "where $\\tau_f$ is the *integrated autocorrelation time* for the chain $f(\\theta^{(n)})$.\n",
    "In other words, $N/\\tau_f$ is the effective number of samples and $\\tau_f$ is the number of steps that are needed before the chain \"forgets\" where it started.\n",
    "This means that, if you can estimate $\\tau_f$, then you can estimate the number of samples that you need to generate to reduce the relative error on your target integral to (say) a few percent.\n",
    "\n",
    "**Note:** It is important to remember that $\\tau_f$ depends on the specific function $f(\\theta)$.\n",
    "This means that there isn't just *one* integrated autocorrelation time for a given Markov chain.\n",
    "Instead, you must compute a different $\\tau_f$ for any integral you estimate using the samples."
   ]
  },
  {
   "cell_type": "markdown",
   "metadata": {},
   "source": [
    "## Computing autocorrelation times\n",
    "\n",
    "There is a great discussion of methods for autocorrelation estimation in [a set of lecture notes by Alan Sokal](https://pdfs.semanticscholar.org/0bfe/9e3db30605fe2d4d26e1a288a5e2997e7225.pdf) and the interested reader should take a look at that for a more formal discussion, but I'll include a summary of some of the relevant points here.\n",
    "The integrated autocorrelation time is defined as\n",
    "\n",
    "$$\n",
    "\\tau_f = \\sum_{\\tau=-\\infty}^\\infty \\rho_f(\\tau)\n",
    "$$\n",
    "\n",
    "where $\\rho_f(\\tau)$ is the normalized autocorrelation function of the stochastic process that generated the chain for $f$.\n",
    "You can estimate $\\rho_f(\\tau)$ using a finite chain $\\{f_n\\}_{n=1}^N$ as\n",
    "\n",
    "$$\n",
    "\\hat{\\rho}_f(\\tau) = \\hat{c}_f(\\tau) / \\hat{c}_f(0)\n",
    "$$\n",
    "\n",
    "where\n",
    "\n",
    "$$\n",
    "\\hat{c}_f(\\tau) = \\frac{1}{N - \\tau} \\sum_{n=1}^{N-\\tau} (f_n - \\mu_f)\\,(f_{n+\\tau}-\\mu_f)\n",
    "$$\n",
    "\n",
    "and\n",
    "\n",
    "$$\n",
    "\\mu_f = \\frac{1}{N}\\sum_{n=1}^N f_n \\quad.\n",
    "$$\n",
    "\n",
    "(Note: In practice, it is actually more computationally efficient to compute $\\hat{c}_f(\\tau)$ using a fast Fourier transform than summing it directly.)\n",
    "\n",
    "Now, you might expect that you can estimate $\\tau_f$ using this estimator for $\\rho_f(\\tau)$ as\n",
    "\n",
    "$$\n",
    "\\hat{\\tau}_f \\stackrel{?}{=} \\sum_{\\tau=-N}^{N} \\hat{\\rho}_f(\\tau) = 1 + 2\\,\\sum_{\\tau=1}^N \\hat{\\rho}_f(\\tau)\n",
    "$$\n",
    "\n",
    "but this isn't actually a very good idea.\n",
    "At longer lags, $\\hat{\\rho}_f(\\tau)$ starts to contain more noise than signal and summing all the way out to $N$ will result in a very noisy estimate of $\\tau_f$.\n",
    "Instead, we want to estimate $\\tau_f$ as\n",
    "\n",
    "$$\n",
    "\\hat{\\tau}_f (M) = 1 + 2\\,\\sum_{\\tau=1}^M \\hat{\\rho}_f(\\tau)\n",
    "$$\n",
    "\n",
    "for some $M \\ll N$.\n",
    "As discussed by Sokal in the notes linked above, the introduction of $M$ decreases the variance of the estimator at the cost of some added bias and he suggests choosing the smallest value of $M$ where $M \\ge C\\,\\hat{\\tau}_f (M)$ for a constant $C \\sim 5$.\n",
    "Sokal says that he finds this procedure to work well for chains longer than $1000\\,\\tau_f$, but the situation is a bit better with emcee because we can use the parallel chains to reduce the variance and we've found that chains longer than about $50\\,\\tau$ are often sufficient."
   ]
  },
  {
   "cell_type": "markdown",
   "metadata": {},
   "source": [
    "## A toy problem\n",
    "\n",
    "To demonstrate this method, we'll start by generating a set of \"chains\" from a process with known autocorrelation structure.\n",
    "To generate a large enough dataset, we'll use [celerite](http://celerite.readthedocs.io):"
   ]
  },
  {
   "cell_type": "code",
   "execution_count": null,
   "metadata": {
    "jupyter": {
     "outputs_hidden": false
    }
   },
   "outputs": [],
   "source": [
    "import numpy as np\n",
    "import matplotlib.pyplot as plt\n",
    "\n",
    "np.random.seed(123456)\n",
    "\n",
    "# Build the celerite model:\n",
    "import celerite\n",
    "from celerite import terms\n",
    "\n",
    "kernel = terms.RealTerm(log_a=0.0, log_c=-6.0)\n",
    "kernel += terms.RealTerm(log_a=0.0, log_c=-2.0)\n",
    "\n",
    "# The true autocorrelation time can be calculated analytically:\n",
    "true_tau = sum(2 * np.exp(t.log_a - t.log_c) for t in kernel.terms)\n",
    "true_tau /= sum(np.exp(t.log_a) for t in kernel.terms)\n",
    "true_tau\n",
    "\n",
    "# Simulate a set of chains:\n",
    "gp = celerite.GP(kernel)\n",
    "t = np.arange(2000000)\n",
    "gp.compute(t)\n",
    "y = gp.sample(size=32)\n",
    "\n",
    "# Let's plot a little segment with a few samples:\n",
    "plt.plot(y[:3, :300].T)\n",
    "plt.xlim(0, 300)\n",
    "plt.xlabel(\"step number\")\n",
    "plt.ylabel(\"$f$\")\n",
    "plt.title(\"$\\\\tau_\\mathrm{{true}} = {0:.0f}$\".format(true_tau), fontsize=14);"
   ]
  },
  {
   "cell_type": "markdown",
   "metadata": {},
   "source": [
    "Now we'll estimate the empirical autocorrelation function for each of these parallel chains and compare this to the true function."
   ]
  },
  {
   "cell_type": "code",
   "execution_count": null,
   "metadata": {
    "jupyter": {
     "outputs_hidden": false
    }
   },
   "outputs": [],
   "source": [
    "def next_pow_two(n):\n",
    "    i = 1\n",
    "    while i < n:\n",
    "        i = i << 1\n",
    "    return i\n",
    "\n",
    "\n",
    "def autocorr_func_1d(x, norm=True):\n",
    "    x = np.atleast_1d(x)\n",
    "    if len(x.shape) != 1:\n",
    "        raise ValueError(\"invalid dimensions for 1D autocorrelation function\")\n",
    "    n = next_pow_two(len(x))\n",
    "\n",
    "    # Compute the FFT and then (from that) the auto-correlation function\n",
    "    f = np.fft.fft(x - np.mean(x), n=2 * n)\n",
    "    acf = np.fft.ifft(f * np.conjugate(f))[: len(x)].real\n",
    "    acf /= 4 * n\n",
    "\n",
    "    # Optionally normalize\n",
    "    if norm:\n",
    "        acf /= acf[0]\n",
    "\n",
    "    return acf\n",
    "\n",
    "\n",
    "# Make plots of ACF estimate for a few different chain lengths\n",
    "window = int(2 * true_tau)\n",
    "tau = np.arange(window + 1)\n",
    "f0 = kernel.get_value(tau) / kernel.get_value(0.0)\n",
    "\n",
    "# Loop over chain lengths:\n",
    "fig, axes = plt.subplots(1, 3, figsize=(12, 4), sharex=True, sharey=True)\n",
    "for n, ax in zip([10, 100, 1000], axes):\n",
    "    nn = int(true_tau * n)\n",
    "    ax.plot(tau / true_tau, f0, \"k\", label=\"true\")\n",
    "    ax.plot(tau / true_tau, autocorr_func_1d(y[0, :nn])[: window + 1], label=\"estimate\")\n",
    "    ax.set_title(r\"$N = {0}\\,\\tau_\\mathrm{{true}}$\".format(n), fontsize=14)\n",
    "    ax.set_xlabel(r\"$\\tau / \\tau_\\mathrm{true}$\")\n",
    "\n",
    "axes[0].set_ylabel(r\"$\\rho_f(\\tau)$\")\n",
    "axes[-1].set_xlim(0, window / true_tau)\n",
    "axes[-1].set_ylim(-0.05, 1.05)\n",
    "axes[-1].legend(fontsize=14);"
   ]
  },
  {
   "cell_type": "markdown",
   "metadata": {},
   "source": [
    "This figure shows how the empirical estimate of the normalized autocorrelation function changes as more samples are generated.\n",
    "In each panel, the true autocorrelation function is shown as a black curve and the empricial estimator is shown as a blue line.\n",
    "\n",
    "Instead of estimating the autocorrelation function using a single chain, we can assume that each chain is sampled from the same stochastic process and average the estimate over ensemble members to reduce the variance.\n",
    "It turns out that we'll actually do this averaging later in the process below, but it can be useful to show the mean autocorrelation function for visualization purposes."
   ]
  },
  {
   "cell_type": "code",
   "execution_count": null,
   "metadata": {
    "jupyter": {
     "outputs_hidden": false
    }
   },
   "outputs": [],
   "source": [
    "fig, axes = plt.subplots(1, 3, figsize=(12, 4), sharex=True, sharey=True)\n",
    "for n, ax in zip([10, 100, 1000], axes):\n",
    "    nn = int(true_tau * n)\n",
    "    ax.plot(tau / true_tau, f0, \"k\", label=\"true\")\n",
    "    f = np.mean(\n",
    "        [autocorr_func_1d(y[i, :nn], norm=False)[: window + 1] for i in range(len(y))],\n",
    "        axis=0,\n",
    "    )\n",
    "    f /= f[0]\n",
    "    ax.plot(tau / true_tau, f, label=\"estimate\")\n",
    "    ax.set_title(r\"$N = {0}\\,\\tau_\\mathrm{{true}}$\".format(n), fontsize=14)\n",
    "    ax.set_xlabel(r\"$\\tau / \\tau_\\mathrm{true}$\")\n",
    "\n",
    "axes[0].set_ylabel(r\"$\\rho_f(\\tau)$\")\n",
    "axes[-1].set_xlim(0, window / true_tau)\n",
    "axes[-1].set_ylim(-0.05, 1.05)\n",
    "axes[-1].legend(fontsize=14);"
   ]
  },
  {
   "cell_type": "markdown",
   "metadata": {},
   "source": [
    "Now let's estimate the autocorrelation time using these estimated autocorrelation functions.\n",
    "Goodman & Weare (2010) suggested averaging the ensemble over walkers and computing the autocorrelation function of the mean chain to lower the variance of the estimator and that was what was originally implemented in emcee.\n",
    "Since then, @fardal on GitHub [suggested that other estimators might have lower variance](https://github.com/dfm/emcee/issues/209).\n",
    "This is absolutely correct and, instead of the Goodman & Weare method, we now recommend computing the autocorrelation time for each walker (it's actually possible to still use the ensemble to choose the appropriate window) and then average these estimates.\n",
    "\n",
    "Here is an implementation of each of these methods and a plot showing the convergence as a function of the chain length:"
   ]
  },
  {
   "cell_type": "code",
   "execution_count": null,
   "metadata": {
    "jupyter": {
     "outputs_hidden": false
    }
   },
   "outputs": [],
   "source": [
    "# Automated windowing procedure following Sokal (1989)\n",
    "def auto_window(taus, c):\n",
    "    m = np.arange(len(taus)) < c * taus\n",
    "    if np.any(m):\n",
    "        return np.argmin(m)\n",
    "    return len(taus) - 1\n",
    "\n",
    "\n",
    "# Following the suggestion from Goodman & Weare (2010)\n",
    "def autocorr_gw2010(y, c=5.0):\n",
    "    f = autocorr_func_1d(np.mean(y, axis=0))\n",
    "    taus = 2.0 * np.cumsum(f) - 1.0\n",
    "    window = auto_window(taus, c)\n",
    "    return taus[window]\n",
    "\n",
    "\n",
    "def autocorr_new(y, c=5.0):\n",
    "    f = np.zeros(y.shape[1])\n",
    "    for yy in y:\n",
    "        f += autocorr_func_1d(yy)\n",
    "    f /= len(y)\n",
    "    taus = 2.0 * np.cumsum(f) - 1.0\n",
    "    window = auto_window(taus, c)\n",
    "    return taus[window]\n",
    "\n",
    "\n",
    "# Compute the estimators for a few different chain lengths\n",
    "N = np.exp(np.linspace(np.log(100), np.log(y.shape[1]), 10)).astype(int)\n",
    "gw2010 = np.empty(len(N))\n",
    "new = np.empty(len(N))\n",
    "for i, n in enumerate(N):\n",
    "    gw2010[i] = autocorr_gw2010(y[:, :n])\n",
    "    new[i] = autocorr_new(y[:, :n])\n",
    "\n",
    "# Plot the comparisons\n",
    "plt.loglog(N, gw2010, \"o-\", label=\"G&W 2010\")\n",
    "plt.loglog(N, new, \"o-\", label=\"DFM 2017\")\n",
    "ylim = plt.gca().get_ylim()\n",
    "plt.plot(N, N / 50.0, \"--k\", label=r\"$\\tau = N/50$\")\n",
    "plt.axhline(true_tau, color=\"k\", label=\"truth\", zorder=-100)\n",
    "plt.ylim(ylim)\n",
    "plt.xlabel(\"number of samples, $N$\")\n",
    "plt.ylabel(r\"$\\tau$ estimates\")\n",
    "plt.legend(fontsize=14);"
   ]
  },
  {
   "cell_type": "markdown",
   "metadata": {},
   "source": [
    "In this figure, the true autocorrelation time is shown as a horizontal line and it should be clear that both estimators give outrageous results for the short chains.\n",
    "It should also be clear that the new algorithm has lower variance than the original method based on Goodman & Weare.\n",
    "In fact, even for moderately long chains, the old method can give dangerously over-confident estimates.\n",
    "For comparison, we have also plotted the $\\tau = N/50$ line to show that, once the estimate crosses that line, The estimates are starting to get more reasonable.\n",
    "This suggests that you probably shouldn't trust any estimate of $\\tau$ unless you have more than $F\\times\\tau$ samples for some $F \\ge 50$.\n",
    "Larger values of $F$ will be more conservative, but they will also (obviously) require longer chains."
   ]
  },
  {
   "cell_type": "markdown",
   "metadata": {},
   "source": [
    "## A more realistic example\n",
    "\n",
    "Now, let's run an actual Markov chain and test these methods using those samples.\n",
    "So that the sampling isn't completely trivial, we'll sample a multimodal density in three dimensions."
   ]
  },
  {
   "cell_type": "code",
   "execution_count": null,
   "metadata": {
    "jupyter": {
     "outputs_hidden": false
    }
   },
   "outputs": [],
   "source": [
    "import emcee\n",
    "\n",
    "\n",
    "def log_prob(p):\n",
    "    return np.logaddexp(-0.5 * np.sum(p**2), -0.5 * np.sum((p - 4.0) ** 2))\n",
    "\n",
    "\n",
    "sampler = emcee.EnsembleSampler(32, 3, log_prob)\n",
    "sampler.run_mcmc(\n",
    "    np.concatenate((np.random.randn(16, 3), 4.0 + np.random.randn(16, 3)), axis=0),\n",
    "    500000,\n",
    "    progress=True,\n",
    ");"
   ]
  },
  {
   "cell_type": "markdown",
   "metadata": {},
   "source": [
    "Here's the marginalized density in the first dimension."
   ]
  },
  {
   "cell_type": "code",
   "execution_count": null,
   "metadata": {
    "jupyter": {
     "outputs_hidden": false
    }
   },
   "outputs": [],
   "source": [
    "chain = sampler.get_chain()[:, :, 0].T\n",
    "\n",
    "plt.hist(chain.flatten(), 100)\n",
    "plt.gca().set_yticks([])\n",
    "plt.xlabel(r\"$\\theta$\")\n",
    "plt.ylabel(r\"$p(\\theta)$\");"
   ]
  },
  {
   "cell_type": "markdown",
   "metadata": {},
   "source": [
    "And here's the comparison plot showing how the autocorrelation time estimates converge with longer chains."
   ]
  },
  {
   "cell_type": "code",
   "execution_count": null,
   "metadata": {
    "jupyter": {
     "outputs_hidden": false
    }
   },
   "outputs": [],
   "source": [
    "# Compute the estimators for a few different chain lengths\n",
    "N = np.exp(np.linspace(np.log(100), np.log(chain.shape[1]), 10)).astype(int)\n",
    "gw2010 = np.empty(len(N))\n",
    "new = np.empty(len(N))\n",
    "for i, n in enumerate(N):\n",
    "    gw2010[i] = autocorr_gw2010(chain[:, :n])\n",
    "    new[i] = autocorr_new(chain[:, :n])\n",
    "\n",
    "# Plot the comparisons\n",
    "plt.loglog(N, gw2010, \"o-\", label=\"G\\&W 2010\")\n",
    "plt.loglog(N, new, \"o-\", label=\"DFM 2017\")\n",
    "ylim = plt.gca().get_ylim()\n",
    "plt.plot(N, N / 50.0, \"--k\", label=r\"$\\tau = N/50$\")\n",
    "plt.ylim(ylim)\n",
    "plt.xlabel(\"number of samples, $N$\")\n",
    "plt.ylabel(r\"$\\tau$ estimates\")\n",
    "plt.legend(fontsize=14);"
   ]
  },
  {
   "cell_type": "markdown",
   "metadata": {},
   "source": [
    "As before, the short chains give absurd estimates of $\\tau$, but the new method converges faster and with lower variance than the old method.\n",
    "The $\\tau = N/50$ line is also included as above as an indication of where we might start trusting the estimates."
   ]
  },
  {
   "cell_type": "markdown",
   "metadata": {},
   "source": [
    "## What about shorter chains?\n",
    "\n",
    "Sometimes it just might not be possible to run chains that are long enough to get a reliable estimate of $\\tau$ using the methods described above.\n",
    "In these cases, you might be able to get an estimate using parametric models for the autocorrelation.\n",
    "One example would be to fit an [autoregressive model](https://en.wikipedia.org/wiki/Autoregressive_model) to the chain and using that to estimate the autocorrelation time.\n",
    "\n",
    "As an example, we'll use [celerite](http://celerite.readthdocs.io) to fit for the maximum likelihood autocorrelation function and then compute an estimate of $\\tau$ based on that model.\n",
    "The celerite model that we're using is equivalent to a second-order ARMA model and it appears to be a good choice for this example, but we're not going to promise anything here about the general applicability and we caution care whenever estimating autocorrelation times using short chains."
   ]
  },
  {
   "cell_type": "code",
   "execution_count": null,
   "metadata": {
    "jupyter": {
     "outputs_hidden": true
    }
   },
   "outputs": [],
   "source": [
    "from scipy.optimize import minimize\n",
    "\n",
    "\n",
    "def autocorr_ml(y, thin=1, c=5.0):\n",
    "    # Compute the initial estimate of tau using the standard method\n",
    "    init = autocorr_new(y, c=c)\n",
    "    z = y[:, ::thin]\n",
    "    N = z.shape[1]\n",
    "\n",
    "    # Build the GP model\n",
    "    tau = max(1.0, init / thin)\n",
    "    kernel = terms.RealTerm(\n",
    "        np.log(0.9 * np.var(z)), -np.log(tau), bounds=[(-5.0, 5.0), (-np.log(N), 0.0)]\n",
    "    )\n",
    "    kernel += terms.RealTerm(\n",
    "        np.log(0.1 * np.var(z)),\n",
    "        -np.log(0.5 * tau),\n",
    "        bounds=[(-5.0, 5.0), (-np.log(N), 0.0)],\n",
    "    )\n",
    "    gp = celerite.GP(kernel, mean=np.mean(z))\n",
    "    gp.compute(np.arange(z.shape[1]))\n",
    "\n",
    "    # Define the objective\n",
    "    def nll(p):\n",
    "        # Update the GP model\n",
    "        gp.set_parameter_vector(p)\n",
    "\n",
    "        # Loop over the chains and compute likelihoods\n",
    "        v, g = zip(*(gp.grad_log_likelihood(z0, quiet=True) for z0 in z))\n",
    "\n",
    "        # Combine the datasets\n",
    "        return -np.sum(v), -np.sum(g, axis=0)\n",
    "\n",
    "    # Optimize the model\n",
    "    p0 = gp.get_parameter_vector()\n",
    "    bounds = gp.get_parameter_bounds()\n",
    "    soln = minimize(nll, p0, jac=True, bounds=bounds)\n",
    "    gp.set_parameter_vector(soln.x)\n",
    "\n",
    "    # Compute the maximum likelihood tau\n",
    "    a, c = kernel.coefficients[:2]\n",
    "    tau = thin * 2 * np.sum(a / c) / np.sum(a)\n",
    "    return tau\n",
    "\n",
    "\n",
    "# Calculate the estimate for a set of different chain lengths\n",
    "ml = np.empty(len(N))\n",
    "ml[:] = np.nan\n",
    "for j, n in enumerate(N[1:8]):\n",
    "    i = j + 1\n",
    "    thin = max(1, int(0.05 * new[i]))\n",
    "    ml[i] = autocorr_ml(chain[:, :n], thin=thin)"
   ]
  },
  {
   "cell_type": "code",
   "execution_count": null,
   "metadata": {
    "jupyter": {
     "outputs_hidden": false
    }
   },
   "outputs": [],
   "source": [
    "# Plot the comparisons\n",
    "plt.loglog(N, gw2010, \"o-\", label=\"G\\&W 2010\")\n",
    "plt.loglog(N, new, \"o-\", label=\"DFM 2017\")\n",
    "plt.loglog(N, ml, \"o-\", label=\"DFM 2017: ML\")\n",
    "ylim = plt.gca().get_ylim()\n",
    "plt.plot(N, N / 50.0, \"--k\", label=r\"$\\tau = N/50$\")\n",
    "plt.ylim(ylim)\n",
    "plt.xlabel(\"number of samples, $N$\")\n",
    "plt.ylabel(r\"$\\tau$ estimates\")\n",
    "plt.legend(fontsize=14);"
   ]
  },
  {
   "cell_type": "markdown",
   "metadata": {},
   "source": [
    "This figure is the same as the previous one, but we've added the maximum likelihood estimates for $\\tau$ in green.\n",
    "In this case, this estimate seems to be robust even for very short chains with $N \\sim \\tau$."
   ]
  },
  {
   "cell_type": "code",
   "execution_count": null,
   "metadata": {
    "jupyter": {
     "outputs_hidden": true
    }
   },
   "outputs": [],
   "source": []
  }
 ],
 "metadata": {
  "interpreter": {
   "hash": "5d1583dc6522fdca8b9cf6587d3eebed179eafd4280bb32d860d5fb871a69112"
  },
  "kernelspec": {
   "display_name": "Python 3.9.13 ('env': venv)",
   "language": "python",
   "name": "python3"
  },
  "language_info": {
   "codemirror_mode": {
    "name": "ipython",
    "version": 3
   },
   "file_extension": ".py",
   "mimetype": "text/x-python",
   "name": "python",
   "nbconvert_exporter": "python",
   "pygments_lexer": "ipython3",
   "version": "3.9.13"
  }
 },
 "nbformat": 4,
 "nbformat_minor": 4
}
