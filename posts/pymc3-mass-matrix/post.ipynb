{
 "cells": [
  {
   "cell_type": "markdown",
   "metadata": {},
   "source": [
    "In my work I often come across probabilistic models where there are strong correlations between parameters.\n",
    "This certainly isn't a special feature of the problems that I work on, and the general advice from MCMC practitioners is that we should reparameterize our models in some form that removes the covariances, but this isn't always practical.\n",
    "One of the reasons why [emcee](https://emcee.readthedocs.io) has been popular in astrophysics (I think) is that it uses an \"affine invariant\" algorithm.\n",
    "This means that when you use emcee, the performance will be (more-or-less) the same for any problems that are affine transformations of each other.\n",
    "In other words, it doesn't care about translations, rotations, or scalings of the parameters.\n",
    "\n",
    "Standard [HMC](https://en.wikipedia.org/wiki/Hamiltonian_Monte_Carlo) methods such as the [NUTS](https://arxiv.org/abs/1111.4246) algorithm implemented in state-of-the-art libraries like [PyMC3](https://docs.pymc.io/) and [Stan](http://mc-stan.org/) do not have this property.\n",
    "[Note: it is actually possible to construct an affine invariant NUTS sampler using some of the ideas from emcee, but there are some limitations and this will hopefully be the topic of a paper that I write someday...]\n",
    "The performance of this method is generally very sensitive to the \"metric\" or \"mass matrix\" that is used and changes in parameterization can make a huge difference in the efficiency of sampling using these packages.\n",
    "To deal with covariances, Stan has support for learning the off-diagonal elements of the mass matrix during burn-in.\n",
    "The basic idea is that (in the Gaussian case) the optimal mass matrix will be equal to the inverse covariance of the posterior.\n",
    "Therefore, you can estimate the sample covariance of burn-in chains and use that as the inverse mass matrix in subsequent samplings.\n",
    "While PyMC3 has the machinery to support this, out of the box it only supports learning of the *diagonal* elements of the mass matrix during the tuning phase (as far as I can tell - please correct me if I'm wrong!).\n",
    "\n",
    "In this blog post, I demonstrate how covariances can cause serious problems for PyMC3 on a simple (but not contrived) toy problem and then I show a way that you can use the existing features in PyMC3 to implement a tuning schedule similar to the one used by Stan and fit for the full dense mass matrix.\n",
    "I have found that this can have a *huge* effect (a few orders of magnitude in the example shown here) on the computational efficiency of PyMC3 on the types of problems that are common in astrophysics.\n",
    "\n",
    "## Sampling an isotropic Gaussian\n",
    "\n",
    "First, let's look at how fast PyMC3 can sample an isotropic 5-D Gaussian."
   ]
  },
  {
   "cell_type": "code",
   "execution_count": null,
   "metadata": {},
   "outputs": [],
   "source": [
    "import time\n",
    "import warnings\n",
    "import pymc3 as pm\n",
    "import arviz as az\n",
    "\n",
    "warnings.filterwarnings(\"ignore\")\n",
    "\n",
    "print(\"PyMC3 version {0}\".format(pm.__version__))\n",
    "\n",
    "ndim = 5\n",
    "\n",
    "with pm.Model() as simple_model:\n",
    "    pm.Normal(\"x\", shape=(ndim,))\n",
    "\n",
    "strt = time.time()\n",
    "with simple_model:\n",
    "    simple_trace = pm.sample(\n",
    "        draws=3000, tune=3000, random_seed=42, chains=2, return_inferencedata=True\n",
    "    )\n",
    "\n",
    "    # About half the time is spent in tuning so correct for that\n",
    "    simple_time = 0.5 * (time.time() - strt)\n",
    "\n",
    "stats = az.summary(simple_trace)\n",
    "simple_time_per_eff = simple_time / stats.ess_bulk.values.min()\n",
    "print(\"time per effective sample: {0:.5f} ms\".format(simple_time_per_eff * 1000))"
   ]
  },
  {
   "cell_type": "markdown",
   "metadata": {},
   "source": [
    "On my laptop with two CPUs, I find that the computational cost per effective sample is a fraction of a millisecond.\n",
    "That's how things should be!\n",
    "\n",
    "## Sampling a covariant Gaussian\n",
    "\n",
    "Now let's try an example where the dimensions of our Gaussian are correlated and see how the default performance of PyMC3 compares.\n",
    "First, let's take a look at a [corner plot](https://corner.readthedocs.io) of the posterior that we're targeting."
   ]
  },
  {
   "cell_type": "code",
   "execution_count": null,
   "metadata": {},
   "outputs": [],
   "source": [
    "import numpy as np\n",
    "\n",
    "import corner  # https://corner.readthedocs.io\n",
    "\n",
    "# Generate a random positive definite matrix\n",
    "np.random.seed(42)\n",
    "L = np.random.randn(ndim, ndim)\n",
    "L[np.diag_indices_from(L)] = 0.1 * np.exp(L[np.diag_indices_from(L)])\n",
    "L[np.triu_indices_from(L, 1)] = 0.0\n",
    "cov = np.dot(L, L.T)\n",
    "\n",
    "# Draw samples from this Gaussian and plot\n",
    "samples = np.random.multivariate_normal(np.zeros(ndim), cov, size=5000)\n",
    "corner.corner(samples, labels=[\"$x_{{{0}}}$\".format(i) for i in range(1, ndim + 1)]);"
   ]
  },
  {
   "cell_type": "markdown",
   "metadata": {},
   "source": [
    "This plot will look familiar to any astronomers reading this (and probably some readers from other fields) because our parameters are often correlated and the dynamic range of the parameters can vary drastically.\n",
    "If you used emcee to sample this posterior and the isotropic case above, you would get identical performance (albeit somewhat worse performance than PyMC3) but, as we'll see, the same is not true of PyMC3.\n",
    "Let's try to sample this probability density using PyMC3's default settings."
   ]
  },
  {
   "cell_type": "code",
   "execution_count": null,
   "metadata": {},
   "outputs": [],
   "source": [
    "with pm.Model() as model:\n",
    "    pm.MvNormal(\"x\", mu=np.zeros(ndim), chol=L, shape=(ndim,))\n",
    "\n",
    "with model:\n",
    "    strt = time.time()\n",
    "    default_trace = pm.sample(\n",
    "        draws=3000, tune=3000, random_seed=42, chains=2, return_inferencedata=True\n",
    "    )\n",
    "    default_time = 0.5 * (time.time() - strt)\n",
    "\n",
    "stats = az.summary(default_trace)\n",
    "default_time_per_eff = default_time / stats.ess_bulk.values.min()\n",
    "print(\"time per effective sample: {0:.5f} ms\".format(default_time_per_eff * 1000))"
   ]
  },
  {
   "cell_type": "markdown",
   "metadata": {},
   "source": [
    "Yes, the units here are the same and the computational efficiency is orders of magnitude worse than the isotropic case.\n",
    "The standard recommendation would be to re-parameterize (we can see that that's what PyMC3 is telling us to do here too), but I'm not really clever or patient enough to do that in every case.\n",
    "So, let's automate this following the procedure from Stan.\n",
    "\n",
    "## Learning the mass matrix in PyMC3\n",
    "\n",
    "In this section, I will demonstrate how we can use the machinery included in the current release of PyMC3 to fit for a dense mass matrix during burn-in.\n",
    "First, let's choose a tuning schedule roughly following section 34.2 from the [Stan manual](https://github.com/stan-dev/stan/releases/download/v2.17.0/stan-reference-2.17.0.pdf)."
   ]
  },
  {
   "cell_type": "code",
   "execution_count": null,
   "metadata": {},
   "outputs": [],
   "source": [
    "n_start = 25\n",
    "n_burn = 500\n",
    "n_tune = 5000\n",
    "n_window = n_start * 2 ** np.arange(np.floor(np.log2((n_tune - n_burn) / n_start)))\n",
    "n_window = np.append(n_window, n_tune - n_burn - np.sum(n_window))\n",
    "n_window = n_window.astype(int)"
   ]
  },
  {
   "cell_type": "markdown",
   "metadata": {},
   "source": [
    "Next, here's a function that takes in a MultiTrace object from PyMC3, estimates the sample covariance, and builds a NUTS step for use in the `sample` method."
   ]
  },
  {
   "cell_type": "code",
   "execution_count": null,
   "metadata": {},
   "outputs": [],
   "source": [
    "from pymc3.step_methods.hmc.quadpotential import QuadPotentialFull\n",
    "\n",
    "\n",
    "def get_step_for_trace(\n",
    "    trace=None, model=None, regular_window=5, regular_variance=1e-3, **kwargs\n",
    "):\n",
    "    model = pm.modelcontext(model)\n",
    "\n",
    "    # If not given, use the trivial metric\n",
    "    if trace is None:\n",
    "        potential = QuadPotentialFull(np.eye(model.ndim))\n",
    "        return pm.NUTS(potential=potential, **kwargs)\n",
    "\n",
    "    # Loop over samples and convert to the relevant parameter space;\n",
    "    # I'm sure that there's an easier way to do this, but I don't know\n",
    "    # how to make something work in general...\n",
    "    samples = np.empty((len(trace) * trace.nchains, model.ndim))\n",
    "    i = 0\n",
    "    for chain in trace._straces.values():\n",
    "        for p in chain:\n",
    "            samples[i] = model.bijection.map(p)\n",
    "            i += 1\n",
    "\n",
    "    # Compute the sample covariance\n",
    "    cov = np.cov(samples, rowvar=0)\n",
    "\n",
    "    # Stan uses a regularized estimator for the covariance matrix to\n",
    "    # be less sensitive to numerical issues for large parameter spaces.\n",
    "    # In the test case for this blog post, this isn't necessary and it\n",
    "    # actually makes the performance worse so I'll disable it, but I\n",
    "    # wanted to include the implementation here for completeness\n",
    "    N = len(samples)\n",
    "    cov = cov * N / (N + regular_window)\n",
    "    cov[np.diag_indices_from(cov)] += (\n",
    "        regular_variance * regular_window / (N + regular_window)\n",
    "    )\n",
    "\n",
    "    # Use the sample covariance as the inverse metric\n",
    "    potential = QuadPotentialFull(cov)\n",
    "    return pm.NUTS(potential=potential, **kwargs)"
   ]
  },
  {
   "cell_type": "markdown",
   "metadata": {},
   "source": [
    "Finally, we can combine our tuning schedule with this proposal estimator to automatically learn the mass matrix during burn-in."
   ]
  },
  {
   "cell_type": "code",
   "execution_count": null,
   "metadata": {},
   "outputs": [],
   "source": [
    "np.random.seed(42)\n",
    "\n",
    "strt = time.time()\n",
    "with model:\n",
    "    start = None\n",
    "    burnin_trace = None\n",
    "    for steps in n_window:\n",
    "        step = get_step_for_trace(burnin_trace, regular_window=0)\n",
    "        burnin_trace = pm.sample(\n",
    "            start=start,\n",
    "            tune=steps,\n",
    "            draws=2,\n",
    "            step=step,\n",
    "            compute_convergence_checks=False,\n",
    "            discard_tuned_samples=False,\n",
    "            return_inferencedata=False,\n",
    "        )\n",
    "        start = [t[-1] for t in burnin_trace._straces.values()]\n",
    "\n",
    "    step = get_step_for_trace(burnin_trace, regular_window=0)\n",
    "    dense_trace = pm.sample(\n",
    "        draws=5000, tune=n_burn, step=step, start=start, return_inferencedata=True\n",
    "    )\n",
    "    factor = 5000 / (5000 + np.sum(n_window + 2) + n_burn)\n",
    "    dense_time = factor * (time.time() - strt)\n",
    "\n",
    "stats = az.summary(dense_trace)\n",
    "dense_time_per_eff = dense_time / stats.ess_bulk.values.min()\n",
    "print(\"time per effective sample: {0:.5f} ms\".format(dense_time_per_eff * 1000))"
   ]
  },
  {
   "cell_type": "markdown",
   "metadata": {},
   "source": [
    "The computational efficiency of this method is similar to PyMC3's default performance on an isotropic Gaussian (within a factor of a few) and corresponds to an improvement of more than *three orders of magnitude* over the default PyMC3 performance on a correlated Gaussian.\n",
    "\n",
    "While I've found that this procedure can substantially improve the sampling efficiency in many real world scenarios (especially during exploratory phases of a project), you shouldn't forget about reparameterization because that can provide even better performance and help identify problems with your model specification.\n",
    "Furthermore, this method might run into numerical issues for high dimensional problems because more samples will be needed to reliably estimate the off-diagonal elements of the mass matrix.\n",
    "Either way, hopefully this is helpful to folks until PyMC3 includes native support for this type of procedure.\n",
    "\n",
    "*Edit: This feature is now available in PyMC3 using the* `init=\"adapt_full\"` *argument to* `pm.sample`."
   ]
  },
  {
   "cell_type": "code",
   "execution_count": null,
   "metadata": {},
   "outputs": [],
   "source": []
  }
 ],
 "metadata": {
  "interpreter": {
   "hash": "d8f5e6b874eb995d9325c7bfdfb796f807dd9e9fb3bde7448cbe7c3e6cab02f9"
  },
  "kernelspec": {
   "display_name": "Python 3.9.13 ('env': venv)",
   "language": "python",
   "name": "python3"
  },
  "language_info": {
   "codemirror_mode": {
    "name": "ipython",
    "version": 3
   },
   "file_extension": ".py",
   "mimetype": "text/x-python",
   "name": "python",
   "nbconvert_exporter": "python",
   "pygments_lexer": "ipython3",
   "version": "3.9.13"
  }
 },
 "nbformat": 4,
 "nbformat_minor": 4
}
