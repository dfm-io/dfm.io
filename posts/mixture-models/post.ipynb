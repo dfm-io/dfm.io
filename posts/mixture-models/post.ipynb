{
 "cells": [
  {
   "cell_type": "markdown",
   "id": "relative-poison",
   "metadata": {},
   "source": [
    "> This post can be cited with the DOI: [10.5281/zenodo.15856](http://dx.doi.org/10.5281/zenodo.15856)\n",
    "\n",
    "There are a lot of reasons why you might use a mixture model and there is a [huge](http://www.amazon.com/gp/product/1439840954?tag=danielfm-20) [related](http://www.amazon.com/gp/product/0387310738?tag=danielfm-20) [literature](http://arxiv.org/abs/1008.4686). That being said, there are a few questions that I regularly get so I thought that I would write up the answers.\n",
    "\n",
    "In astronomy, the most common reason for using a mixture model is to fit data with outliers so that's the language I'll use but the results are applicable to any other mixture model. The questions that I'll try to answer are:\n",
    "\n",
    "1. How do you derive the *marginalized* likelihood—as popularized by [Hogg *et al.* (2010)](http://arxiv.org/abs/1008.4686), I think—and why would you want to?\n",
    "2. How do you work out the mixture membership probabilities (or what is the probability that the point is an outlier) after using this model?"
   ]
  },
  {
   "cell_type": "markdown",
   "id": "multiple-bubble",
   "metadata": {},
   "source": [
    "## The basic model\n",
    "\n",
    "The idea here is that you have some data drawn from the model that you care about and some data points that are outliers—drawn from a different model that you don't care about! For simplicity, let's consider a linear model. Everything that I derive here will be applicable to other more complicated models but it is easier to visualize the linear case. [Hogg *et al.* (2010)](http://arxiv.org/abs/1008.4686) give a nice treatment of this linear model with slightly different notation but they miss a few useful points in the discussion.\n",
    "\n",
    "To start, let's generate some fake data:"
   ]
  },
  {
   "cell_type": "code",
   "execution_count": null,
   "id": "approximate-cisco",
   "metadata": {
    "jupyter": {
     "outputs_hidden": false
    }
   },
   "outputs": [],
   "source": [
    "import numpy as np\n",
    "import matplotlib.pyplot as pl\n",
    "\n",
    "# We'll choose the parameters of our synthetic data.\n",
    "# The outlier probability will be 80%:\n",
    "true_frac = 0.8\n",
    "\n",
    "# The linear model has unit slope and zero intercept:\n",
    "true_params = [1.0, 0.0]\n",
    "\n",
    "# The outliers are drawn from a Gaussian with zero mean and unit variance:\n",
    "true_outliers = [0.0, 1.0]\n",
    "\n",
    "# For reproducibility, let's set the random number seed and generate the data:\n",
    "np.random.seed(12)\n",
    "x = np.sort(np.random.uniform(-2, 2, 15))\n",
    "yerr = 0.2 * np.ones_like(x)\n",
    "y = true_params[0] * x + true_params[1] + yerr * np.random.randn(len(x))\n",
    "\n",
    "# Those points are all drawn from the correct model so let's replace some of\n",
    "# them with outliers.\n",
    "m_bkg = np.random.rand(len(x)) > true_frac\n",
    "y[m_bkg] = true_outliers[0]\n",
    "y[m_bkg] += np.sqrt(true_outliers[1] + yerr[m_bkg] ** 2) * np.random.randn(sum(m_bkg))"
   ]
  },
  {
   "cell_type": "markdown",
   "id": "stylish-delaware",
   "metadata": {},
   "source": [
    "Here's what these data look like. In this plot, the empty, square points are the true outliers. The purple line is the fit if we don't account for the fact that there are outliers and just treat all the points equally. Compare this to the correct answer (shown as the black line)."
   ]
  },
  {
   "cell_type": "code",
   "execution_count": null,
   "id": "matched-gothic",
   "metadata": {
    "jupyter": {
     "outputs_hidden": false
    }
   },
   "outputs": [],
   "source": [
    "# First, fit the data and find the maximum likelihood model ignoring outliers.\n",
    "A = np.vander(x, 2)\n",
    "p = np.linalg.solve(np.dot(A.T, A / yerr[:, None] ** 2), np.dot(A.T, y / yerr**2))\n",
    "\n",
    "# Then save the *true* line.\n",
    "x0 = np.linspace(-2.1, 2.1, 200)\n",
    "y0 = np.dot(np.vander(x0, 2), true_params)\n",
    "\n",
    "# Plot the data and the truth.\n",
    "pl.errorbar(x, y, yerr=yerr, fmt=\",k\", ms=0, capsize=0, lw=1, zorder=999)\n",
    "pl.scatter(x[m_bkg], y[m_bkg], marker=\"s\", s=22, c=\"w\", edgecolor=\"k\", zorder=1000)\n",
    "pl.scatter(x[~m_bkg], y[~m_bkg], marker=\"o\", s=22, c=\"k\", zorder=1000)\n",
    "pl.plot(x0, y0, color=\"k\", lw=1.5)\n",
    "\n",
    "# Plot the best fit line.\n",
    "pl.plot(x0, x0 * p[0] + p[1], color=\"#8d44ad\", lw=3, alpha=0.5)\n",
    "\n",
    "pl.xlabel(\"$x$\")\n",
    "pl.ylabel(\"$y$\")\n",
    "pl.ylim(-2.5, 2.5)\n",
    "pl.xlim(-2.1, 2.1);"
   ]
  },
  {
   "cell_type": "markdown",
   "id": "closing-option",
   "metadata": {},
   "source": [
    "The purple line is *clearly* a terrible fit because we ignored the outliers. To fix this, let's generalize this model and add a binary flag $q_k$ for each data point $k$. If $q_k$ is zero, then the point is \"good\" and the likelihood is given by the usual Gaussian:\n",
    "\n",
    "$$p(y_k\\,|\\,x_k,\\,\\sigma_k,\\,\\theta,\\,q_k=0) = \\frac{1}{\\sqrt{2\\,\\pi\\,\\sigma_k^2}} \\exp \\left(-\\frac{[y_k - f_\\theta (x_k)]^2}{2\\,\\sigma_k^2}\\right)$$\n",
    "\n",
    "where $f_\\theta (x_k) = \\theta_1 \\, x_k + \\theta_2$ is the linear model.\n",
    "\n",
    "Now, if $q_k = 1$ then the point is an outlier and the likelihood becomes:\n",
    "\n",
    "$$p(y_k\\,|\\,x_k,\\,\\sigma_k,\\,\\theta,\\,q_k=1) = \\frac{1}{\\sqrt{2\\,\\pi\\,[\\sigma_k^2 + \\theta_4]}} \\exp \\left(-\\frac{[y_k - \\theta_3]^2}{2\\,[\\sigma_k^2 + \\theta_4]}\\right) \\quad.$$\n",
    "\n",
    "I have made the simplifying assumption that the outliers are drawn from a single Gaussian with mean $\\theta_3$ and variance $\\theta_4$. From experience, the results aren't normally very sensitive to the choice of outlier model and the Gaussian model is often good enough but the following derivations will be valid for any model that you choose."
   ]
  },
  {
   "cell_type": "markdown",
   "id": "false-darwin",
   "metadata": {},
   "source": [
    "Under this new model, the full likelihood for the entire dataset becomes:\n",
    "\n",
    "$$p(\\{y_k\\}\\,|\\,\\{x_k\\},\\,\\{\\sigma_k\\},\\,\\theta,\\,\\{q_k\\}) = \\prod_{k=1}^{K} p(y_k\\,|\\,x_k,\\sigma_k,\\,\\theta,\\,q_k)$$\n",
    "\n",
    "where, for each term, the correct Gaussian is chosen depending on the value of $q_k$. To write this equation, I've assumed that the data points are independent and if that's not true for your dataset then things get *a lot* harder."
   ]
  },
  {
   "cell_type": "markdown",
   "id": "registered-exclusion",
   "metadata": {},
   "source": [
    "Now we could just take this likelihood function, apply priors, and use MCMC to find posterior constraints on $\\theta$ and the $\\{q_k\\}$ flags but this would be hard for a few reasons. First, if you're used to using [emcee](http://dfm.io/emcee) for your MCMC needs, you'll find that it's pretty hard to implement a model with discrete variables so you'd probably need to learn some [other](http://pymc-devs.github.io/pymc/) [sampler](http://mc-stan.org/) and, honestly, it probably wouldn't work well for this problem either! Which brings us to our second problem. This problem is *very* high dimensional and the dimension scales with the number of data points. Without the outlier model, the problem is only two-dimensional but when we include the outliers, the model suddenly becomes $(4 + K)$-dimensional, where $K$ is the number of data points. This will always be hard! Therefore, in practice, it is useful to marginalize out the badly behaved parameters ($q_k$) and just sample in $\\theta$."
   ]
  },
  {
   "cell_type": "markdown",
   "id": "dried-afghanistan",
   "metadata": {},
   "source": [
    "## The marginalized likelihood\n",
    "\n",
    "In order to marginalize out the $\\{q_k\\}$ flags, we need to choose a prior $p(q_k)$. After making this choice (I won't specialize yet), the marginalization can be written:\n",
    "\n",
    "$$p(\\{y_k\\}\\,|\\,\\{x_k\\},\\,\\{\\sigma_k\\},\\,\\theta) = \\sum_{\\{q_k\\}} \\prod_{k=1}^{K} p(q_k) \\, p(y_k\\,|\\,x_k,\\,\\sigma_k,\\,\\theta,\\,q_k)$$\n",
    "\n",
    "where the sum is over all the possible permutations of the $q_k$ flags. If you squint for a second, you'll see that you can actually switch the order of the sum and product without changing anything. This follows from our assumption that the data points are independent. Therefore, we're left with the much simpler likelihood function\n",
    "\n",
    "$$p(\\{y_k\\}\\,|\\,\\{x_k\\},\\,\\{\\sigma_k\\},\\,\\theta) = \\prod_{k=1}^{K} p(y_k\\,|\\,x_k,\\,\\sigma_k,\\,\\theta)$$\n",
    "\n",
    "where\n",
    "\n",
    "$$p(y_k\\,|\\,x_k,\\,\\sigma_k,\\,\\theta) = \\sum_{q_k} p(q_k) \\, p(y_k\\,|\\,x_k,\\,\\sigma_k,\\,\\theta,\\,q_k) \\quad.$$\n",
    "\n",
    "The prior $p(q_k)$ could be different for every data point but it is often sufficient to choose a simple model like\n",
    "\n",
    "$$p(q_k) = \\left \\{\\begin{array}{ll}\n",
    "Q & \\mathrm{if}\\,q_k=0 \\\\\n",
    "1-Q & \\mathrm{if}\\,q_k=1\n",
    "\\end{array}\\right.$$\n",
    "\n",
    "where $Q \\in [0, 1]$ is a constant that sets the prior probability that a point is drawn from the foreground model. Chosing this model, we recover the (possibly) familiar likelihood function from [Hogg *et al.* (2010)](http://arxiv.org/abs/1008.4686):\n",
    "\n",
    "$$p(\\{y_k\\}\\,|\\,\\{x_k\\},\\,\\{\\sigma_k\\},\\,\\theta) = \\prod_{k=1}^{K} \\left [ Q\\,p(y_k\\,|\\,x_k,\\,\\sigma_k,\\,\\theta,\\,q_k=0) + (1-Q)\\,p(y_k\\,|\\,x_k,\\,\\sigma_k,\\,\\theta,\\,q_k=1) \\right ] \\quad.$$\n",
    "\n",
    "This is a much easier model to sample so let's do that now:"
   ]
  },
  {
   "cell_type": "code",
   "execution_count": null,
   "id": "dramatic-floating",
   "metadata": {
    "jupyter": {
     "outputs_hidden": false
    }
   },
   "outputs": [],
   "source": [
    "import emcee\n",
    "\n",
    "# Define the probabilistic model...\n",
    "# A simple prior:\n",
    "bounds = [(0.1, 1.9), (-0.9, 0.9), (0, 1), (-2.4, 2.4), (-7.2, 5.2)]\n",
    "\n",
    "\n",
    "def lnprior(p):\n",
    "    # We'll just put reasonable uniform priors on all the parameters.\n",
    "    if not all(b[0] < v < b[1] for v, b in zip(p, bounds)):\n",
    "        return -np.inf\n",
    "    return 0\n",
    "\n",
    "\n",
    "# The \"foreground\" linear likelihood:\n",
    "def lnlike_fg(p):\n",
    "    m, b, _, M, lnV = p\n",
    "    model = m * x + b\n",
    "    return -0.5 * (((model - y) / yerr) ** 2 + 2 * np.log(yerr))\n",
    "\n",
    "\n",
    "# The \"background\" outlier likelihood:\n",
    "def lnlike_bg(p):\n",
    "    _, _, Q, M, lnV = p\n",
    "    var = np.exp(lnV) + yerr**2\n",
    "    return -0.5 * ((M - y) ** 2 / var + np.log(var))\n",
    "\n",
    "\n",
    "# Full probabilistic model.\n",
    "def lnprob(p):\n",
    "    m, b, Q, M, lnV = p\n",
    "\n",
    "    # First check the prior.\n",
    "    lp = lnprior(p)\n",
    "    if not np.isfinite(lp):\n",
    "        return -np.inf, np.zeros_like(y), np.zeros_like(y)\n",
    "\n",
    "    # Compute the vector of foreground likelihoods and include the q prior.\n",
    "    ll_fg = lnlike_fg(p)\n",
    "    arg1 = ll_fg + np.log(Q)\n",
    "\n",
    "    # Compute the vector of background likelihoods and include the q prior.\n",
    "    ll_bg = lnlike_bg(p)\n",
    "    arg2 = ll_bg + np.log(1.0 - Q)\n",
    "\n",
    "    # Combine these using log-add-exp for numerical stability.\n",
    "    ll = np.sum(np.logaddexp(arg1, arg2))\n",
    "\n",
    "    # We're using emcee's \"blobs\" feature in order to keep track of the\n",
    "    # foreground and background likelihoods for reasons that will become\n",
    "    # clear soon.\n",
    "    return lp + ll, arg1, arg2\n",
    "\n",
    "\n",
    "# Initialize the walkers at a reasonable location.\n",
    "ndim, nwalkers = 5, 32\n",
    "p0 = np.array([1.0, 0.0, 0.7, 0.0, np.log(2.0)])\n",
    "p0 = [p0 + 1e-5 * np.random.randn(ndim) for k in range(nwalkers)]\n",
    "\n",
    "# Set up the sampler.\n",
    "sampler = emcee.EnsembleSampler(nwalkers, ndim, lnprob)\n",
    "\n",
    "# Run a burn-in chain and save the final location.\n",
    "state = sampler.run_mcmc(p0, 500)\n",
    "\n",
    "# Run the production chain.\n",
    "sampler.reset()\n",
    "sampler.run_mcmc(state, 1500);"
   ]
  },
  {
   "cell_type": "markdown",
   "id": "worth-rehabilitation",
   "metadata": {},
   "source": [
    "This code should only take about a minute to run. Compare that to any attempt you've ever made at sampling the same problem with another 15 or more parameters and you should be pretty stoked!\n",
    "\n",
    "Let's show the resulting parameter constraints and compare them to the *true* values (indicated in blue) used to generate the synthetic dataset. This should encourage us that we've done something reasonable."
   ]
  },
  {
   "cell_type": "code",
   "execution_count": null,
   "id": "desirable-tract",
   "metadata": {
    "jupyter": {
     "outputs_hidden": false
    }
   },
   "outputs": [],
   "source": [
    "import corner\n",
    "\n",
    "labels = [\"$m$\", \"$b$\", \"$Q$\", \"$M$\", \"$\\ln V$\"]\n",
    "truths = true_params + [true_frac, true_outliers[0], np.log(true_outliers[1])]\n",
    "corner.corner(sampler.flatchain, bins=35, extents=bounds, labels=labels, truths=truths);"
   ]
  },
  {
   "cell_type": "markdown",
   "id": "classical-cattle",
   "metadata": {},
   "source": [
    "Similarly, the predicted constraint on the linear model is:"
   ]
  },
  {
   "cell_type": "code",
   "execution_count": null,
   "id": "premier-circus",
   "metadata": {
    "jupyter": {
     "outputs_hidden": false
    }
   },
   "outputs": [],
   "source": [
    "# Compute the quantiles of the predicted line and plot them.\n",
    "A = np.vander(x0, 2)\n",
    "lines = np.dot(sampler.flatchain[:, :2], A.T)\n",
    "quantiles = np.percentile(lines, [16, 84], axis=0)\n",
    "pl.fill_between(x0, quantiles[0], quantiles[1], color=\"#8d44ad\", alpha=0.5)\n",
    "\n",
    "# Plot the data.\n",
    "pl.errorbar(x, y, yerr=yerr, fmt=\",k\", ms=0, capsize=0, lw=1, zorder=999)\n",
    "pl.scatter(x, y, marker=\"o\", s=22, c=\"k\", zorder=1000)\n",
    "\n",
    "# Plot the true line.\n",
    "pl.plot(x0, y0, color=\"k\", lw=1.5)\n",
    "\n",
    "pl.xlabel(\"$x$\")\n",
    "pl.ylabel(\"$y$\")\n",
    "pl.ylim(-2.5, 2.5)\n",
    "pl.xlim(-2.1, 2.1);"
   ]
  },
  {
   "cell_type": "markdown",
   "id": "reported-cross",
   "metadata": {},
   "source": [
    "Great! Comparing the purple swath to the true line (shown in black), I think that we can all agree that this is a much better fit! But now, how do we label the points to decide which ones are outliers?"
   ]
  },
  {
   "cell_type": "markdown",
   "id": "legitimate-census",
   "metadata": {},
   "source": [
    "## Mixture membership probabilities\n",
    "\n",
    "Okay. So now we have a model that we can sample and it seems to give us reasonable results but didn't we throw away a lot of information when we used the marginalized likelihood instead of sampling in the $q_k$ parameters? If we sampled the full model, we would, after all, get marginalized posterior constraints on the *outlierness* of each point. This is a very common question when I suggest that people use this model so I wanted to show that you're actually not throwing anything away and with a tiny bit of extra computation, you can recover these constraints!\n",
    "\n",
    "To be specific, the thing that we want to compute is:\n",
    "\n",
    "$$p(q_k\\,|\\,y) = \\int p(q_k,\\,\\theta\\,|\\,y)\\,\\mathrm{d}\\theta = \\int p(q_k\\,|\\,y,\\,\\theta)\\,p(\\theta\\,|\\,y)\\,\\mathrm{d}\\theta \\quad,$$\n",
    "\n",
    "the posterior probability of a specific point $k$ being good ($q_k=0$) given all the data. In this equation, I've simplified the notation a bit and $y = \\{y_k\\}$ now indicates *all the data* and I'm leaving out the implied $\\{x_k\\},\\,\\{\\sigma_k\\}$ on the right-hand side of every probability. To compute this, we'll need to evaluate the conditional probability\n",
    "\n",
    "$$p(q_k\\,|\\,y,\\,\\theta) = \\frac{p(q_k)\\,p(y\\,|\\,\\theta,\\,q_k)}{\\sum_{j} p(q_k=j)\\,p(y\\,|\\,\\theta,\\,q_k=j)}$$\n",
    "\n",
    "where the sum is over every allowed value of $q_k$. Both the numerator and denominator are used when computing the marginalized likelihood so if we hang onto those, we can re-use them to compute the membership probabilities. In the example above, I stored these results using emcee's [blobs feature](http://dan.iel.fm/emcee/current/user/advanced/#arbitrary-metadata-blobs) so it'll be ease to evaluate $p(q_k\\,|\\,y,\\,\\theta^{(n)})$ for each sample $\\theta^{(n)}$ from the chain.\n",
    "\n",
    "Then, we need to realize that the Markov chain gave us samples $\\theta^{(n)}$ from the probability distribution $p(\\theta\\,|\\,y)$, so we can approximate the previous integral as\n",
    "\n",
    "$$p(q_k\\,|\\,y) = \\int p(q_k\\,|\\,y,\\,\\theta)\\,p(\\theta\\,|\\,y)\\,\\mathrm{d}\\theta \\approx \\frac{1}{N}\\sum_{n=1}^N p(q_k\\,|\\,y,\\,\\theta^{(n)}) \\quad.$$\n",
    "\n",
    "Therefore, the posterior probaility of being an outlier or not can be computed by just taking the average of a bunch of values that we've already computed! In practice, this would look like the following:"
   ]
  },
  {
   "cell_type": "code",
   "execution_count": null,
   "id": "southwest-remove",
   "metadata": {
    "jupyter": {
     "outputs_hidden": false
    }
   },
   "outputs": [],
   "source": [
    "norm = 0.0\n",
    "post_prob = np.zeros(len(x))\n",
    "for i in range(sampler.chain.shape[1]):\n",
    "    for j in range(sampler.chain.shape[0]):\n",
    "        ll_fg, ll_bg = sampler.blobs[i][j]\n",
    "        post_prob += np.exp(ll_fg - np.logaddexp(ll_fg, ll_bg))\n",
    "        norm += 1\n",
    "post_prob /= norm"
   ]
  },
  {
   "cell_type": "markdown",
   "id": "statewide-clarity",
   "metadata": {},
   "source": [
    "Therefore, from left to right, the marginalized posterior probability that each point is part of the foreground model is:"
   ]
  },
  {
   "cell_type": "code",
   "execution_count": null,
   "id": "confident-egyptian",
   "metadata": {
    "jupyter": {
     "outputs_hidden": false
    }
   },
   "outputs": [],
   "source": [
    "print(\", \".join(map(\"{0:.3f}\".format, post_prob)))"
   ]
  },
  {
   "cell_type": "markdown",
   "id": "responsible-mixture",
   "metadata": {},
   "source": [
    "This model works pretty well... so well, in fact, that the strong outliers are given nearly zero probability of being in the foreground model!\n",
    "\n",
    "Finally, it can be useful to label outliers on the final plot so let's use a color scale on the points to show this probability. In the figure below, darker points are more likely to be drawn from the line. This plot is pretty satisfying because the model has done a good job labeling all but one outlier at high confidence!"
   ]
  },
  {
   "cell_type": "code",
   "execution_count": null,
   "id": "allied-immigration",
   "metadata": {
    "jupyter": {
     "outputs_hidden": false
    }
   },
   "outputs": [],
   "source": [
    "# Plot the predition.\n",
    "pl.fill_between(x0, quantiles[0], quantiles[1], color=\"#8d44ad\", alpha=0.5)\n",
    "\n",
    "# Plot the data points.\n",
    "pl.errorbar(x, y, yerr=yerr, fmt=\",k\", ms=0, capsize=0, lw=1, zorder=999)\n",
    "# Plot the (true) outliers.\n",
    "pl.scatter(\n",
    "    x[m_bkg],\n",
    "    y[m_bkg],\n",
    "    marker=\"s\",\n",
    "    s=22,\n",
    "    c=post_prob[m_bkg],\n",
    "    cmap=\"gray_r\",\n",
    "    edgecolor=\"k\",\n",
    "    vmin=0,\n",
    "    vmax=1,\n",
    "    zorder=1000,\n",
    ")\n",
    "# Plot the (true) good points.\n",
    "pl.scatter(\n",
    "    x[~m_bkg],\n",
    "    y[~m_bkg],\n",
    "    marker=\"o\",\n",
    "    s=22,\n",
    "    c=post_prob[~m_bkg],\n",
    "    cmap=\"gray_r\",\n",
    "    vmin=0,\n",
    "    vmax=1,\n",
    "    zorder=1000,\n",
    ")\n",
    "\n",
    "# Plot the true line.\n",
    "pl.plot(x0, y0, color=\"k\", lw=1.5)\n",
    "\n",
    "pl.xlabel(\"$x$\")\n",
    "pl.ylabel(\"$y$\")\n",
    "pl.ylim(-2.5, 2.5)\n",
    "pl.xlim(-2.1, 2.1);"
   ]
  },
  {
   "cell_type": "markdown",
   "id": "annoying-madagascar",
   "metadata": {},
   "source": [
    "**Acknowledgments** &nbsp;\n",
    "*I'd like to thank [Ruth Angus](http://ruthang.us) for useful comments.*"
   ]
  }
 ],
 "metadata": {
  "kernelspec": {
   "display_name": "Python 3",
   "language": "python",
   "name": "python3"
  },
  "language_info": {
   "codemirror_mode": {
    "name": "ipython",
    "version": 3
   },
   "file_extension": ".py",
   "mimetype": "text/x-python",
   "name": "python",
   "nbconvert_exporter": "python",
   "pygments_lexer": "ipython3",
   "version": "3.10.4"
  }
 },
 "nbformat": 4,
 "nbformat_minor": 5
}
