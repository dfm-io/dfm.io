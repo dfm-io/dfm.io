[NbConvertApp] Converting notebook posts/histogram1.ipynb to notebook
[NbConvertApp] WARNING | Kernelspec name python3 cannot be found!
[NbConvertApp] ERROR | No such kernel named python3
Traceback (most recent call last):
  File "/Users/dforemanmackey/src/dfm/dfm.io/.snakemake/conda/8272912d94bbc92fa982bedd832e28e1/lib/python3.10/site-packages/jupyter_client/manager.py", line 71, in wrapper
    out = await method(self, *args, **kwargs)
  File "/Users/dforemanmackey/src/dfm/dfm.io/.snakemake/conda/8272912d94bbc92fa982bedd832e28e1/lib/python3.10/site-packages/jupyter_client/manager.py", line 377, in _async_start_kernel
    kernel_cmd, kw = await ensure_async(self.pre_start_kernel(**kw))
  File "/Users/dforemanmackey/src/dfm/dfm.io/.snakemake/conda/8272912d94bbc92fa982bedd832e28e1/lib/python3.10/site-packages/jupyter_client/utils.py", line 34, in ensure_async
    return await obj
  File "/Users/dforemanmackey/src/dfm/dfm.io/.snakemake/conda/8272912d94bbc92fa982bedd832e28e1/lib/python3.10/site-packages/jupyter_client/manager.py", line 340, in _async_pre_start_kernel
    self.kernel_spec,
  File "/Users/dforemanmackey/src/dfm/dfm.io/.snakemake/conda/8272912d94bbc92fa982bedd832e28e1/lib/python3.10/site-packages/jupyter_client/manager.py", line 170, in kernel_spec
    self._kernel_spec = self.kernel_spec_manager.get_kernel_spec(self.kernel_name)
  File "/Users/dforemanmackey/src/dfm/dfm.io/.snakemake/conda/8272912d94bbc92fa982bedd832e28e1/lib/python3.10/site-packages/jupyter_client/kernelspec.py", line 294, in get_kernel_spec
    raise NoSuchKernel(kernel_name)
jupyter_client.kernelspec.NoSuchKernel: No such kernel named python3
Traceback (most recent call last):
  File "/Users/dforemanmackey/src/dfm/dfm.io/.snakemake/conda/8272912d94bbc92fa982bedd832e28e1/bin/jupyter-nbconvert", line 11, in <module>
    sys.exit(main())
  File "/Users/dforemanmackey/src/dfm/dfm.io/.snakemake/conda/8272912d94bbc92fa982bedd832e28e1/lib/python3.10/site-packages/jupyter_core/application.py", line 264, in launch_instance
    return super(JupyterApp, cls).launch_instance(argv=argv, **kwargs)
  File "/Users/dforemanmackey/src/dfm/dfm.io/.snakemake/conda/8272912d94bbc92fa982bedd832e28e1/lib/python3.10/site-packages/traitlets/config/application.py", line 846, in launch_instance
    app.start()
  File "/Users/dforemanmackey/src/dfm/dfm.io/.snakemake/conda/8272912d94bbc92fa982bedd832e28e1/lib/python3.10/site-packages/nbconvert/nbconvertapp.py", line 369, in start
    self.convert_notebooks()
  File "/Users/dforemanmackey/src/dfm/dfm.io/.snakemake/conda/8272912d94bbc92fa982bedd832e28e1/lib/python3.10/site-packages/nbconvert/nbconvertapp.py", line 541, in convert_notebooks
    self.convert_single_notebook(notebook_filename)
  File "/Users/dforemanmackey/src/dfm/dfm.io/.snakemake/conda/8272912d94bbc92fa982bedd832e28e1/lib/python3.10/site-packages/nbconvert/nbconvertapp.py", line 506, in convert_single_notebook
    output, resources = self.export_single_notebook(notebook_filename, resources, input_buffer=input_buffer)
  File "/Users/dforemanmackey/src/dfm/dfm.io/.snakemake/conda/8272912d94bbc92fa982bedd832e28e1/lib/python3.10/site-packages/nbconvert/nbconvertapp.py", line 435, in export_single_notebook
    output, resources = self.exporter.from_filename(notebook_filename, resources=resources)
  File "/Users/dforemanmackey/src/dfm/dfm.io/.snakemake/conda/8272912d94bbc92fa982bedd832e28e1/lib/python3.10/site-packages/nbconvert/exporters/exporter.py", line 190, in from_filename
    return self.from_file(f, resources=resources, **kw)
  File "/Users/dforemanmackey/src/dfm/dfm.io/.snakemake/conda/8272912d94bbc92fa982bedd832e28e1/lib/python3.10/site-packages/nbconvert/exporters/exporter.py", line 208, in from_file
    return self.from_notebook_node(nbformat.read(file_stream, as_version=4), resources=resources, **kw)
  File "/Users/dforemanmackey/src/dfm/dfm.io/.snakemake/conda/8272912d94bbc92fa982bedd832e28e1/lib/python3.10/site-packages/nbconvert/exporters/notebook.py", line 32, in from_notebook_node
    nb_copy, resources = super().from_notebook_node(nb, resources, **kw)
  File "/Users/dforemanmackey/src/dfm/dfm.io/.snakemake/conda/8272912d94bbc92fa982bedd832e28e1/lib/python3.10/site-packages/nbconvert/exporters/exporter.py", line 147, in from_notebook_node
    nb_copy, resources = self._preprocess(nb_copy, resources)
  File "/Users/dforemanmackey/src/dfm/dfm.io/.snakemake/conda/8272912d94bbc92fa982bedd832e28e1/lib/python3.10/site-packages/nbconvert/exporters/exporter.py", line 334, in _preprocess
    nbc, resc = preprocessor(nbc, resc)
  File "/Users/dforemanmackey/src/dfm/dfm.io/.snakemake/conda/8272912d94bbc92fa982bedd832e28e1/lib/python3.10/site-packages/nbconvert/preprocessors/base.py", line 47, in __call__
    return self.preprocess(nb, resources)
  File "/Users/dforemanmackey/src/dfm/dfm.io/.snakemake/conda/8272912d94bbc92fa982bedd832e28e1/lib/python3.10/site-packages/nbconvert/preprocessors/execute.py", line 79, in preprocess
    with self.setup_kernel():
  File "/Users/dforemanmackey/src/dfm/dfm.io/.snakemake/conda/8272912d94bbc92fa982bedd832e28e1/lib/python3.10/contextlib.py", line 135, in __enter__
    return next(self.gen)
  File "/Users/dforemanmackey/src/dfm/dfm.io/.snakemake/conda/8272912d94bbc92fa982bedd832e28e1/lib/python3.10/site-packages/nbclient/client.py", line 561, in setup_kernel
    self.start_new_kernel(**kwargs)
  File "/Users/dforemanmackey/src/dfm/dfm.io/.snakemake/conda/8272912d94bbc92fa982bedd832e28e1/lib/python3.10/site-packages/nbclient/util.py", line 84, in wrapped
    return just_run(coro(*args, **kwargs))
  File "/Users/dforemanmackey/src/dfm/dfm.io/.snakemake/conda/8272912d94bbc92fa982bedd832e28e1/lib/python3.10/site-packages/nbclient/util.py", line 62, in just_run
    return loop.run_until_complete(coro)
  File "/Users/dforemanmackey/src/dfm/dfm.io/.snakemake/conda/8272912d94bbc92fa982bedd832e28e1/lib/python3.10/asyncio/base_events.py", line 646, in run_until_complete
    return future.result()
  File "/Users/dforemanmackey/src/dfm/dfm.io/.snakemake/conda/8272912d94bbc92fa982bedd832e28e1/lib/python3.10/site-packages/nbclient/client.py", line 516, in async_start_new_kernel
    await ensure_async(self.km.start_kernel(extra_arguments=self.extra_arguments, **kwargs))
  File "/Users/dforemanmackey/src/dfm/dfm.io/.snakemake/conda/8272912d94bbc92fa982bedd832e28e1/lib/python3.10/site-packages/nbclient/util.py", line 96, in ensure_async
    result = await obj
  File "/Users/dforemanmackey/src/dfm/dfm.io/.snakemake/conda/8272912d94bbc92fa982bedd832e28e1/lib/python3.10/site-packages/jupyter_client/manager.py", line 79, in wrapper
    raise e
  File "/Users/dforemanmackey/src/dfm/dfm.io/.snakemake/conda/8272912d94bbc92fa982bedd832e28e1/lib/python3.10/site-packages/jupyter_client/manager.py", line 71, in wrapper
    out = await method(self, *args, **kwargs)
  File "/Users/dforemanmackey/src/dfm/dfm.io/.snakemake/conda/8272912d94bbc92fa982bedd832e28e1/lib/python3.10/site-packages/jupyter_client/manager.py", line 377, in _async_start_kernel
    kernel_cmd, kw = await ensure_async(self.pre_start_kernel(**kw))
  File "/Users/dforemanmackey/src/dfm/dfm.io/.snakemake/conda/8272912d94bbc92fa982bedd832e28e1/lib/python3.10/site-packages/jupyter_client/utils.py", line 34, in ensure_async
    return await obj
  File "/Users/dforemanmackey/src/dfm/dfm.io/.snakemake/conda/8272912d94bbc92fa982bedd832e28e1/lib/python3.10/site-packages/jupyter_client/manager.py", line 340, in _async_pre_start_kernel
    self.kernel_spec,
  File "/Users/dforemanmackey/src/dfm/dfm.io/.snakemake/conda/8272912d94bbc92fa982bedd832e28e1/lib/python3.10/site-packages/jupyter_client/manager.py", line 170, in kernel_spec
    self._kernel_spec = self.kernel_spec_manager.get_kernel_spec(self.kernel_name)
  File "/Users/dforemanmackey/src/dfm/dfm.io/.snakemake/conda/8272912d94bbc92fa982bedd832e28e1/lib/python3.10/site-packages/jupyter_client/kernelspec.py", line 294, in get_kernel_spec
    raise NoSuchKernel(kernel_name)
jupyter_client.kernelspec.NoSuchKernel: No such kernel named python3
