{
 "metadata": {
  "name": "",
  "signature": "sha256:cadfbd8491cf2ce890af2014e33b714b46343879813984d968003a342730b945"
 },
 "nbformat": 3,
 "nbformat_minor": 0,
 "worksheets": [
  {
   "cells": [
    {
     "cell_type": "code",
     "collapsed": false,
     "input": [
      "%matplotlib inline\n",
      "%config InlineBackend.figure_format = \"retina\"\n",
      "\n",
      "from matplotlib import rcParams\n",
      "rcParams[\"savefig.dpi\"] = 100\n",
      "rcParams[\"font.size\"] = 20"
     ],
     "language": "python",
     "metadata": {},
     "outputs": [],
     "prompt_number": 1
    },
    {
     "cell_type": "code",
     "collapsed": false,
     "input": [
      "import numpy as np\n",
      "import matplotlib.pyplot as pl"
     ],
     "language": "python",
     "metadata": {},
     "outputs": [],
     "prompt_number": 2
    },
    {
     "cell_type": "code",
     "collapsed": false,
     "input": [
      "v1, v2 = 100, 120\n",
      "N = 50000"
     ],
     "language": "python",
     "metadata": {},
     "outputs": [],
     "prompt_number": 36
    },
    {
     "cell_type": "code",
     "collapsed": false,
     "input": [
      "x = v1 * np.random.randn(N)\n",
      "x += v2 * np.random.randn(N)\n",
      "np.mean(x), np.std(x), np.sqrt(v1 ** 2 + v2 ** 2)"
     ],
     "language": "python",
     "metadata": {},
     "outputs": [
      {
       "metadata": {},
       "output_type": "pyout",
       "prompt_number": 39,
       "text": [
        "(-0.62191181942294149, 156.58692443905812, 156.20499351813308)"
       ]
      }
     ],
     "prompt_number": 39
    },
    {
     "cell_type": "code",
     "collapsed": false,
     "input": [
      "x = np.sqrt(v1**2 + v2**2) * np.random.randn(N)\n",
      "np.mean(x), np.std(x), np.sqrt(v1 ** 2 + v2 ** 2)"
     ],
     "language": "python",
     "metadata": {},
     "outputs": [
      {
       "metadata": {},
       "output_type": "pyout",
       "prompt_number": 40,
       "text": [
        "(0.37960515936735578, 156.79646805350714, 156.20499351813308)"
       ]
      }
     ],
     "prompt_number": 40
    },
    {
     "cell_type": "code",
     "collapsed": false,
     "input": [],
     "language": "python",
     "metadata": {},
     "outputs": []
    }
   ],
   "metadata": {}
  }
 ]
}